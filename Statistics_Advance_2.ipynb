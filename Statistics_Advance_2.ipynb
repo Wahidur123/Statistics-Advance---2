{
  "nbformat": 4,
  "nbformat_minor": 0,
  "metadata": {
    "colab": {
      "provenance": []
    },
    "kernelspec": {
      "name": "python3",
      "display_name": "Python 3"
    },
    "language_info": {
      "name": "python"
    }
  },
  "cells": [
    {
      "cell_type": "markdown",
      "source": [
        "##**Assignment Questions**"
      ],
      "metadata": {
        "id": "QrOweaop2lXS"
      }
    },
    {
      "cell_type": "markdown",
      "source": [
        "###**Statistics Part 2**"
      ],
      "metadata": {
        "id": "RRA_OZBR2otx"
      }
    },
    {
      "cell_type": "markdown",
      "source": [
        "**1.What is hypothesis testing in statistics?**"
      ],
      "metadata": {
        "id": "sR6pgMox20hY"
      }
    },
    {
      "cell_type": "markdown",
      "source": [
        "Ans:Hypothesis testing in statistics is a procedure used to evaluate assumptions or claims (hypotheses) about a population based on sample data. It involves two key hypotheses:\n",
        "\n",
        "1. **Null hypothesis (H₀)**: This is the default assumption, usually stating that there is no effect or no difference in the population.\n",
        "2. **Alternative hypothesis (H₁)**: This is the statement you want to test, suggesting that there is an effect or a difference.\n",
        "\n",
        "The process follows these steps:\n",
        "\n",
        "1. **Set a significance level (α)**: This is the threshold for determining whether the results are statistically significant, commonly set at 0.05 (5%).\n",
        "   \n",
        "2. **Choose the statistical test**: The appropriate test (e.g., t-test, chi-square test) is selected based on the data type and hypothesis.\n",
        "\n",
        "3. **Calculate the test statistic**: Using the sample data, a test statistic (like a t-score or z-score) is computed to evaluate how much the sample data deviates from the null hypothesis.\n",
        "\n",
        "4. **Find the p-value**: The p-value represents the probability of observing results at least as extreme as those observed, assuming the null hypothesis is true.\n",
        "\n",
        "5. **Make a decision**:\n",
        "   - If the p-value is less than α, the null hypothesis is rejected, suggesting evidence in favor of the alternative hypothesis.\n",
        "   - If the p-value is greater than α, the null hypothesis is not rejected, meaning there is insufficient evidence to support the alternative hypothesis."
      ],
      "metadata": {
        "id": "kSfxooI227IF"
      }
    },
    {
      "cell_type": "markdown",
      "source": [
        "**2.What is the null hypothesis, and how does it differ from the alternative hypothesis?**"
      ],
      "metadata": {
        "id": "wgsrAUUE3Uf5"
      }
    },
    {
      "cell_type": "markdown",
      "source": [
        "Ans: The **null hypothesis (H₀)** is a statement that there is no effect, no difference, or no relationship in a population. It represents the idea that any observed differences in data are due to random chance rather than any real effect or relationship. The null hypothesis is typically the default assumption that researchers aim to test or challenge.\n",
        "\n",
        "Example: In a clinical trial, the null hypothesis might state that a new drug has no effect on patient recovery compared to a placebo.\n",
        "\n",
        "The **alternative hypothesis (H₁ or Ha)**, on the other hand, is the hypothesis that suggests there is an effect, a difference, or a relationship in the population. It represents the researcher's actual hypothesis or what they hope to prove, such as the presence of a real effect or relationship that isn't explained by random chance.\n",
        "\n",
        "Example: In the same clinical trial, the alternative hypothesis might state that the new drug does improve patient recovery compared to a placebo.\n",
        "\n",
        "###Differences:\n",
        "1. **Nature of the Hypothesis:**\n",
        "   - **Null Hypothesis (H₀)**: Assumes no effect or no difference.\n",
        "   - **Alternative Hypothesis (H₁ or Ha)**: Assumes there is an effect or a difference.\n",
        "\n",
        "2. **Purpose:**\n",
        "   - **Null Hypothesis (H₀)**: Serves as a baseline or starting point for statistical testing.\n",
        "   - **Alternative Hypothesis (H₁ or Ha)**: Represents the claim or theory that the researcher is trying to support.\n",
        "\n",
        "3. **Testing:**\n",
        "   - The goal of hypothesis testing is usually to **reject** the null hypothesis if the sample data provide strong enough evidence in favor of the alternative hypothesis.\n",
        "   - If there is not enough evidence to reject the null hypothesis, we \"fail to reject\" it, meaning there is insufficient evidence to support the alternative hypothesis."
      ],
      "metadata": {
        "id": "mXO7Hr0y3aTZ"
      }
    },
    {
      "cell_type": "markdown",
      "source": [
        "**3.What is the significance level in hypothesis testing, and why is it important?**"
      ],
      "metadata": {
        "id": "7wpt5v8O3jGo"
      }
    },
    {
      "cell_type": "markdown",
      "source": [
        "Ans:The **significance level (α)** in hypothesis testing is the threshold used to determine whether the results are statistically significant. It represents the probability of rejecting the null hypothesis when it is actually true (Type I error). A common significance level is **0.05**, meaning there is a 5% chance of making a Type I error.\n",
        "\n",
        "The significance level is important because it helps control the risk of falsely concluding that there is an effect or difference when there isn't one. It sets the standard for decision-making in hypothesis testing, guiding whether to reject the null hypothesis based on the p-value."
      ],
      "metadata": {
        "id": "69LitQcT3o0H"
      }
    },
    {
      "cell_type": "markdown",
      "source": [
        "**4.What does a P-value represent in hypothesis testing?**"
      ],
      "metadata": {
        "id": "M5uEdmOp3zef"
      }
    },
    {
      "cell_type": "markdown",
      "source": [
        "Ans: In hypothesis testing, a **p-value** represents the probability of obtaining results at least as extreme as those observed in the sample data, assuming that the null hypothesis is true. In other words, it measures how well the sample data supports the null hypothesis.\n",
        "\n",
        "- A **low p-value** (typically less than the significance level, α, like 0.05) suggests strong evidence against the null hypothesis, leading to its rejection.\n",
        "- A **high p-value** (greater than α) indicates weak evidence against the null hypothesis, meaning you fail to reject it.\n",
        "\n",
        "The p-value helps determine whether the observed data is consistent with the null hypothesis or if the data suggests a statistically significant effect."
      ],
      "metadata": {
        "id": "KVtDHVvN339u"
      }
    },
    {
      "cell_type": "markdown",
      "source": [
        "**5.How do you interpret the P-value in hypothesis testing?**"
      ],
      "metadata": {
        "id": "H4nTbEev4QVo"
      }
    },
    {
      "cell_type": "markdown",
      "source": [
        "Ans: In hypothesis testing, the **p-value** is interpreted as follows:\n",
        "\n",
        "- **If the p-value is less than the significance level (α, e.g., 0.05)**: There is strong evidence against the null hypothesis, so you **reject the null hypothesis**.\n",
        "- **If the p-value is greater than or equal to α**: There is insufficient evidence to reject the null hypothesis, so you **fail to reject the null hypothesis**.\n",
        "\n",
        "Essentially, a smaller p-value suggests stronger evidence for the alternative hypothesis, while a larger p-value suggests the data does not provide enough evidence to support the alternative hypothesis."
      ],
      "metadata": {
        "id": "Wsiikxio4VCp"
      }
    },
    {
      "cell_type": "markdown",
      "source": [
        "**6.What are Type 1 and Type 2 errors in hypothesis testing?**"
      ],
      "metadata": {
        "id": "xOfoXrDv4dDc"
      }
    },
    {
      "cell_type": "markdown",
      "source": [
        "Ans: In hypothesis testing, **Type 1** and **Type 2 errors** are two potential mistakes that can occur during the decision-making process:\n",
        "\n",
        "1. **Type 1 Error (False Positive)**:\n",
        "   - **Definition**: This error happens when the null hypothesis (H₀) is **rejected** when it is actually **true**.\n",
        "   - **Consequence**: You incorrectly conclude that there is an effect or difference when there isn't one.\n",
        "   - **Example**: A medical test shows a patient has a disease when they do not (false alarm).\n",
        "   \n",
        "   The probability of making a Type 1 error is denoted by **α** (alpha), also known as the **significance level**.\n",
        "\n",
        "2. **Type 2 Error (False Negative)**:\n",
        "   - **Definition**: This error occurs when the null hypothesis (H₀) is **not rejected** when it is actually **false**.\n",
        "   - **Consequence**: You fail to detect a real effect or difference.\n",
        "   - **Example**: A medical test fails to detect a disease in a patient who actually has it (missed diagnosis).\n",
        "   \n",
        "   The probability of making a Type 2 error is denoted by **β** (beta).\n",
        "\n",
        "### Key Differences:\n",
        "- **Type 1 error** is about **incorrectly rejecting** a true null hypothesis (false positive).\n",
        "- **Type 2 error** is about **failing to reject** a false null hypothesis (false negative).\n",
        "\n",
        "In practice, there is often a trade-off between these two errors. Reducing one typically increases the likelihood of the other."
      ],
      "metadata": {
        "id": "bugfBunl4heA"
      }
    },
    {
      "cell_type": "markdown",
      "source": [
        "**7.What is the difference between a one-tailed and a two-tailed test in hypothesis testing?**"
      ],
      "metadata": {
        "id": "jDXGKWe54sDA"
      }
    },
    {
      "cell_type": "markdown",
      "source": [
        "Ans:A **one-tailed test** looks for an effect in only one direction (either greater than or less than a value). The alternative hypothesis specifies the direction of the effect (e.g., μ > μ₀ or μ < μ₀).\n",
        "\n",
        "A **two-tailed test** looks for an effect in both directions (either greater than or less than a value). The alternative hypothesis tests for a difference in either direction (e.g., μ ≠ μ₀).\n",
        "\n",
        "In short:\n",
        "- **One-tailed**: Tests in one direction.\n",
        "- **Two-tailed**: Tests in both directions."
      ],
      "metadata": {
        "id": "lGAUgLo-4wQI"
      }
    },
    {
      "cell_type": "markdown",
      "source": [
        "**8.What is the Z-test, and when is it used in hypothesis testing?**"
      ],
      "metadata": {
        "id": "b3l-L_6k44Z_"
      }
    },
    {
      "cell_type": "markdown",
      "source": [
        "Ans: The **Z-test** is a statistical test used to determine whether there is a significant difference between a sample mean and the population mean, or between two sample means, when the population variance is known or the sample size is large (typically n > 30).\n",
        "\n",
        "### Key Features:\n",
        "- **Z-test** uses the **Z-statistic**, which follows a standard normal distribution (mean = 0, standard deviation = 1).\n",
        "- It is often used for **large sample sizes** or when the **population standard deviation** is known.\n",
        "  \n",
        "### When is it used?\n",
        "1. **One-sample Z-test**: To compare a sample mean to a known population mean when the population standard deviation is known.\n",
        "   - Example: Testing if the average height of a sample of people is equal to the known average height of the population.\n",
        "  \n",
        "2. **Two-sample Z-test**: To compare the means of two independent samples when the population standard deviations are known.\n",
        "   - Example: Comparing the average test scores of two different classes.\n",
        "\n",
        "3. **Z-test for proportions**: Used to compare observed proportions to a known proportion or between two sample proportions.\n",
        "   - Example: Testing if the proportion of people supporting a policy is the same in two different regions.\n",
        "\n",
        "### Formula for the Z-statistic:\n",
        "For a one-sample Z-test:\n",
        "\\[\n",
        "Z = \\frac{\\bar{X} - \\mu}{\\frac{\\sigma}{\\sqrt{n}}}\n",
        "\\]\n",
        "Where:\n",
        "- \\(\\bar{X}\\) is the sample mean,\n",
        "- \\(\\mu\\) is the population mean,\n",
        "- \\(\\sigma\\) is the population standard deviation,\n",
        "- \\(n\\) is the sample size.\n",
        "\n",
        "### Conclusion:\n",
        "A **Z-test** is used when you have large sample sizes or know the population standard deviation, and you want to test hypotheses about population means or proportions."
      ],
      "metadata": {
        "id": "ia3VnC9b48XP"
      }
    },
    {
      "cell_type": "markdown",
      "source": [
        "**9.How do you calculate the Z-score, and what does it represent in hypothesis testing?**"
      ],
      "metadata": {
        "id": "z9zA7nF35EPe"
      }
    },
    {
      "cell_type": "markdown",
      "source": [
        "Ans: The **Z-score** is a measure of how many standard deviations a data point (or sample mean) is from the population mean. It helps standardize the data, allowing you to compare it to a standard normal distribution.\n",
        "\n",
        "### Formula for Calculating the Z-score:\n",
        "\n",
        "For a **single data point** in a population:\n",
        "\\[\n",
        "Z = \\frac{X - \\mu}{\\sigma}\n",
        "\\]\n",
        "Where:\n",
        "- **X** = the observed value (data point),\n",
        "- **μ** = the population mean,\n",
        "- **σ** = the population standard deviation.\n",
        "\n",
        "For a **sample mean** in hypothesis testing (used in Z-tests):\n",
        "\\[\n",
        "Z = \\frac{\\bar{X} - \\mu}{\\frac{\\sigma}{\\sqrt{n}}}\n",
        "\\]\n",
        "Where:\n",
        "- **\\(\\bar{X}\\)** = sample mean,\n",
        "- **μ** = population mean,\n",
        "- **σ** = population standard deviation,\n",
        "- **n** = sample size.\n",
        "\n",
        "### What does the Z-score represent in hypothesis testing?\n",
        "- **Z-score** tells you how far away the sample mean or data point is from the population mean in terms of standard deviations.\n",
        "  - A **Z-score of 0** means the data point or sample mean is exactly at the population mean.\n",
        "  - A **positive Z-score** means the data point is above the mean.\n",
        "  - A **negative Z-score** means the data point is below the mean.\n",
        "\n",
        "In hypothesis testing, the Z-score helps you determine how likely your sample data is under the null hypothesis. A **high absolute Z-score** (typically above 1.96 for a 95% confidence level) suggests that the result is statistically significant, meaning it's unlikely to have occurred by random chance."
      ],
      "metadata": {
        "id": "7f2n7tYh5KwN"
      }
    },
    {
      "cell_type": "markdown",
      "source": [
        "**10.What is the T-distribution, and when should it be used instead of the normal distribution?**"
      ],
      "metadata": {
        "id": "ZnlW8SYs5YqA"
      }
    },
    {
      "cell_type": "markdown",
      "source": [
        "Ans: The **T-distribution** is a probability distribution used in hypothesis testing when the sample size is small (usually n < 30) and/or the population standard deviation is unknown. It is similar to the normal distribution but has **heavier tails**, which accounts for the increased uncertainty with smaller sample sizes.\n",
        "\n",
        "### When to use the T-distribution:\n",
        "- **Small sample size** (n < 30).\n",
        "- **Unknown population standard deviation**, and you are estimating it from the sample.\n",
        "\n",
        "As the sample size increases, the T-distribution approaches the normal distribution, and in those cases, the normal distribution can be used instead."
      ],
      "metadata": {
        "id": "Aw45w1Jp5eqD"
      }
    },
    {
      "cell_type": "markdown",
      "source": [
        "**11.What is the difference between a Z-test and a T-test?**"
      ],
      "metadata": {
        "id": "SrBuzCTd5l7S"
      }
    },
    {
      "cell_type": "markdown",
      "source": [
        "Ans: The main differences between a **Z-test** and a **T-test** are:\n",
        "\n",
        "1. **Sample Size**:\n",
        "   - **Z-test**: Used for **large sample sizes** (n > 30).\n",
        "   - **T-test**: Used for **small sample sizes** (n < 30).\n",
        "\n",
        "2. **Population Standard Deviation**:\n",
        "   - **Z-test**: Assumes the **population standard deviation (σ)** is known.\n",
        "   - **T-test**: Used when the **population standard deviation is unknown** and is estimated from the sample.\n",
        "\n",
        "3. **Distribution**:\n",
        "   - **Z-test**: Uses the **normal distribution**.\n",
        "   - **T-test**: Uses the **T-distribution**, which has heavier tails, especially for small samples.\n",
        "\n",
        "In summary:\n",
        "- **Z-test**: Large samples, known σ.\n",
        "- **T-test**: Small samples, unknown σ."
      ],
      "metadata": {
        "id": "-PjWHvnB5p2B"
      }
    },
    {
      "cell_type": "markdown",
      "source": [
        "**12.What is the T-test, and how is it used in hypothesis testing?**"
      ],
      "metadata": {
        "id": "3jKbGaPv5xRs"
      }
    },
    {
      "cell_type": "markdown",
      "source": [
        "Ans: The **T-test** is used to compare means in hypothesis testing, especially when the sample size is small (n < 30) or the population standard deviation is unknown.\n",
        "\n",
        "There are three main types:\n",
        "1. **One-sample T-test**: Compares the sample mean to a known population mean.\n",
        "2. **Independent two-sample T-test**: Compares the means of two independent samples.\n",
        "3. **Paired sample T-test**: Compares the means of two related groups.\n",
        "\n",
        "The T-test involves calculating the T-statistic, comparing it to a critical value or p-value, and deciding whether to reject the null hypothesis based on statistical significance."
      ],
      "metadata": {
        "id": "tOsYUVVM506O"
      }
    },
    {
      "cell_type": "markdown",
      "source": [
        "**13.What is the relationship between Z-test and T-test in hypothesis testing?**"
      ],
      "metadata": {
        "id": "LC0Emcj95_cs"
      }
    },
    {
      "cell_type": "markdown",
      "source": [
        "Ans: The **Z-test** and **T-test** are both used to compare sample means to population means, but:\n",
        "\n",
        "- **Z-test**: Used for large samples (n > 30) or when the population standard deviation is known.\n",
        "- **T-test**: Used for small samples (n < 30) or when the population standard deviation is unknown.\n",
        "\n",
        "As the sample size increases, the T-test approaches the Z-test because the T-distribution becomes similar to the normal distribution."
      ],
      "metadata": {
        "id": "oEK51m8I6DvQ"
      }
    },
    {
      "cell_type": "markdown",
      "source": [
        "**14.What is a confidence interval, and how is it used to interpret statistical results?**"
      ],
      "metadata": {
        "id": "8EpkXvVu6TMu"
      }
    },
    {
      "cell_type": "markdown",
      "source": [
        "Ans: A **confidence interval (CI)** is a range of values, derived from sample data, that is used to estimate a population parameter (such as a population mean or proportion). It provides an interval within which the true population parameter is likely to fall, with a certain level of confidence (e.g., 95%).\n",
        "\n",
        "### How it is used:\n",
        "- A **95% confidence interval** means you can be 95% confident that the true population parameter lies within the interval.\n",
        "- If the interval is wide, the estimate is less precise; if it is narrow, the estimate is more precise.\n",
        "\n",
        "### Interpretation:\n",
        "- **Example**: A 95% CI for a sample mean is (10, 15). This means the true population mean is likely to fall between 10 and 15, with 95% confidence.\n",
        "\n",
        "In summary, a confidence interval helps quantify uncertainty in statistical estimates and provides a range for where the true value may lie."
      ],
      "metadata": {
        "id": "pH6MU8EB6YKY"
      }
    },
    {
      "cell_type": "markdown",
      "source": [
        "**15.What is the margin of error, and how does it affect the confidence interval?**"
      ],
      "metadata": {
        "id": "MQZpExNm6heq"
      }
    },
    {
      "cell_type": "markdown",
      "source": [
        "Ans: The **margin of error (MoE)** is the range of values above and below the sample estimate (such as a sample mean or proportion) within a confidence interval. It represents the uncertainty or variability in the estimate.\n",
        "\n",
        "### How it affects the confidence interval:\n",
        "- The **margin of error** is added and subtracted from the sample estimate to create the confidence interval.\n",
        "- A larger margin of error results in a wider confidence interval, indicating more uncertainty.\n",
        "- A smaller margin of error results in a narrower confidence interval, indicating more precision in the estimate.\n",
        "\n",
        "**Formula**:\n",
        "\\[\n",
        "\\text{Confidence Interval} = \\text{Estimate} \\pm \\text{Margin of Error}\n",
        "\\]\n",
        "\n",
        "In short, the margin of error controls the width of the confidence interval and reflects the precision of the estimate."
      ],
      "metadata": {
        "id": "cAfIA3tt6ogU"
      }
    },
    {
      "cell_type": "markdown",
      "source": [
        "**16.How is Bayes' Theorem used in statistics, and what is its significance?**"
      ],
      "metadata": {
        "id": "sCpooN7N6w5o"
      }
    },
    {
      "cell_type": "markdown",
      "source": [
        "Ans: **Bayes' Theorem** is a fundamental concept in statistics that describes how to update the probability of a hypothesis based on new evidence or data. It allows for the calculation of conditional probabilities, helping to revise beliefs about an event or hypothesis.\n",
        "\n",
        "### Formula:\n",
        "\\[\n",
        "P(A|B) = \\frac{P(B|A) \\cdot P(A)}{P(B)}\n",
        "\\]\n",
        "Where:\n",
        "- **P(A|B)** is the **posterior probability**: the probability of event A given evidence B.\n",
        "- **P(B|A)** is the **likelihood**: the probability of observing evidence B given event A.\n",
        "- **P(A)** is the **prior probability**: the initial probability of event A before seeing the data.\n",
        "- **P(B)** is the **marginal likelihood**: the total probability of evidence B.\n",
        "\n",
        "### Significance:\n",
        "- **Bayes' Theorem** helps update probabilities with new data, making it essential in decision-making, predictive modeling, and areas like medical testing, machine learning, and risk analysis.\n",
        "- It allows for **dynamic learning** from evidence, particularly when information is uncertain or incomplete."
      ],
      "metadata": {
        "id": "aXBdNS6I61nm"
      }
    },
    {
      "cell_type": "markdown",
      "source": [
        "**17.What is the Chi-square distribution, and when is it used?**"
      ],
      "metadata": {
        "id": "PJrgnRMY6-Gz"
      }
    },
    {
      "cell_type": "markdown",
      "source": [
        "Ans: The **Chi-square distribution** is a probability distribution that is used in hypothesis testing, particularly for categorical data. It is a special case of the gamma distribution and is defined by its degrees of freedom (df).\n",
        "\n",
        "### When is it used?\n",
        "1. **Goodness-of-fit test**: To determine if observed categorical data fits a specific distribution.\n",
        "   - Example: Testing if a die is fair by comparing the observed frequency of each face to the expected frequency.\n",
        "  \n",
        "2. **Test of independence**: To assess if two categorical variables are independent.\n",
        "   - Example: Testing if gender is related to voting preference in a survey.\n",
        "\n",
        "3. **Homogeneity test**: To compare the distribution of a categorical variable across different populations.\n",
        "\n",
        "### Key Points:\n",
        "- The Chi-square distribution is used when data is categorical and you're comparing frequencies or proportions.\n",
        "- It is widely used in **chi-square tests** to evaluate how well observed data matches expected data."
      ],
      "metadata": {
        "id": "weyGpuF37Cap"
      }
    },
    {
      "cell_type": "markdown",
      "source": [
        "**18. What is the Chi-square goodness of fit test, and how is it applied?**"
      ],
      "metadata": {
        "id": "kxLZ1Xdz7JHv"
      }
    },
    {
      "cell_type": "markdown",
      "source": [
        "Ans:The **Chi-square goodness of fit test** is a statistical test used to determine if the observed frequencies of a categorical variable match the expected frequencies based on a specific hypothesis or distribution.\n",
        "\n",
        "### How it's applied:\n",
        "1. **State the hypotheses**:\n",
        "   - **Null hypothesis (H₀)**: The observed data follows the expected distribution.\n",
        "   - **Alternative hypothesis (H₁)**: The observed data does not follow the expected distribution.\n",
        "\n",
        "2. **Calculate the Chi-square statistic**:\n",
        "   \\[\n",
        "   \\chi^2 = \\sum \\frac{(O_i - E_i)^2}{E_i}\n",
        "   \\]\n",
        "   Where:\n",
        "   - **Oᵢ** = observed frequency,\n",
        "   - **Eᵢ** = expected frequency.\n",
        "\n",
        "3. **Compare the Chi-square statistic** to the critical value from the Chi-square distribution table based on the degrees of freedom (df) and significance level (α), or calculate the p-value.\n",
        "\n",
        "4. **Make a decision**:\n",
        "   - If the p-value is less than α, reject the null hypothesis, suggesting that the observed data does not fit the expected distribution.\n",
        "\n",
        "### Example:\n",
        "Testing if the outcomes of rolling a fair die follow the expected distribution (each face should appear 1/6 of the time)."
      ],
      "metadata": {
        "id": "b1UdE9e47OKt"
      }
    },
    {
      "cell_type": "markdown",
      "source": [
        "**19.What is the F-distribution, and when is it used in hypothesis testing?**"
      ],
      "metadata": {
        "id": "5iHdz9Al7WUR"
      }
    },
    {
      "cell_type": "markdown",
      "source": [
        "Ans: The **F-distribution** is a probability distribution that arises when comparing variances in hypothesis testing. It is used primarily in **analysis of variance (ANOVA)** and in tests comparing two variances.\n",
        "\n",
        "### When is it used?\n",
        "1. **ANOVA (Analysis of Variance)**: To compare the means of three or more groups by testing if the variances between the groups are significantly different.\n",
        "   - Example: Testing if different teaching methods lead to different student performance levels.\n",
        "\n",
        "2. **Testing equality of variances**: To compare the variances of two populations.\n",
        "   - Example: Testing if the variability in exam scores is the same across two classes.\n",
        "\n",
        "### Key Points:\n",
        "- The F-distribution is used to test hypotheses about variances and is based on the ratio of two sample variances.\n",
        "- It is a right-skewed distribution and its shape depends on the degrees of freedom for both the numerator and denominator."
      ],
      "metadata": {
        "id": "6wVcavDG7btV"
      }
    },
    {
      "cell_type": "markdown",
      "source": [
        "**20.What is an ANOVA test, and what are its assumptions?**"
      ],
      "metadata": {
        "id": "Y86-2CIv7kOC"
      }
    },
    {
      "cell_type": "markdown",
      "source": [
        "Ans:The **ANOVA (Analysis of Variance)** test is a statistical method used to compare the means of three or more groups to determine if there are any statistically significant differences between them.\n",
        "\n",
        "### Key Assumptions:\n",
        "1. **Independence**: The observations within each group are independent of each other.\n",
        "2. **Normality**: The data in each group are approximately normally distributed.\n",
        "3. **Homogeneity of variances**: The variances in each group are equal (also known as homoscedasticity).\n",
        "\n",
        "### How it's applied:\n",
        "- **Null hypothesis (H₀)**: All group means are equal.\n",
        "- **Alternative hypothesis (H₁)**: At least one group mean is different.\n",
        "\n",
        "ANOVA tests the variability between group means compared to the variability within groups, and if the ratio is large enough, it suggests significant differences between the groups."
      ],
      "metadata": {
        "id": "4Voso3KV7oSI"
      }
    },
    {
      "cell_type": "markdown",
      "source": [
        "**21.What are the different types of ANOVA tests?**"
      ],
      "metadata": {
        "id": "Be5cUxW67xAj"
      }
    },
    {
      "cell_type": "markdown",
      "source": [
        "Ans: The main types of **ANOVA tests** are:\n",
        "\n",
        "1. **One-Way ANOVA**: Compares the means of three or more independent groups based on one factor.\n",
        "   \n",
        "2. **Two-Way ANOVA**: Compares the means of groups based on two factors, considering both their individual effects and any interaction between them.\n",
        "\n",
        "3. **Repeated Measures ANOVA**: Compares the means of the same group at different times or conditions (e.g., before and after treatment).\n",
        "\n",
        "4. **Multivariate Analysis of Variance (MANOVA)**: Extends ANOVA to compare multiple dependent variables simultaneously.\n",
        "\n",
        "These types are used depending on the number of factors and the structure of the data."
      ],
      "metadata": {
        "id": "9eUlMntC72ZZ"
      }
    },
    {
      "cell_type": "markdown",
      "source": [
        "**22.What is the F-test, and how does it relate to hypothesis testing?**"
      ],
      "metadata": {
        "id": "oHR2OnHA8AYk"
      }
    },
    {
      "cell_type": "markdown",
      "source": [
        "Ans:The **F-test** is a statistical test used to compare the variances of two or more groups to determine if they are significantly different. It is commonly used in **ANOVA** and to test the equality of variances.\n",
        "\n",
        "- **Null hypothesis (H₀)**: Assumes the variances are equal.\n",
        "- **Alternative hypothesis (H₁)**: Assumes the variances are not equal.\n",
        "\n",
        "The F-test calculates the ratio of variances, and a large F-statistic suggests a significant difference between group variances or means."
      ],
      "metadata": {
        "id": "fFBF_Un88GVe"
      }
    },
    {
      "cell_type": "markdown",
      "source": [
        "##**Practical**\n"
      ],
      "metadata": {
        "id": "RBLTj-Sl8k0d"
      }
    },
    {
      "cell_type": "markdown",
      "source": [
        "**1.Write a Python program to perform a Z-test for comparing a sample mean to a known population mean and interpret the results.**"
      ],
      "metadata": {
        "id": "AJJgapvr8s8o"
      }
    },
    {
      "cell_type": "code",
      "source": [
        "import numpy as np\n",
        "import scipy.stats as stats\n",
        "\n",
        "# Given data\n",
        "sample_data = [25, 30, 35, 40, 45, 50, 55, 60, 65, 70]  # Sample data (e.g., exam scores)\n",
        "population_mean = 50  # Known population mean\n",
        "population_std_dev = 10  # Known population standard deviation\n",
        "sample_size = len(sample_data)  # Sample size\n",
        "\n",
        "# Calculate the sample mean\n",
        "sample_mean = np.mean(sample_data)\n",
        "\n",
        "# Calculate the Z-score\n",
        "z_score = (sample_mean - population_mean) / (population_std_dev / np.sqrt(sample_size))\n",
        "\n",
        "# Calculate the p-value for a two-tailed test\n",
        "p_value = 2 * (1 - stats.norm.cdf(abs(z_score)))\n",
        "\n",
        "# Interpret the result\n",
        "alpha = 0.05  # Significance level\n",
        "\n",
        "# Output the results\n",
        "print(f\"Sample Mean: {sample_mean}\")\n",
        "print(f\"Z-score: {z_score}\")\n",
        "print(f\"P-value: {p_value}\")\n",
        "\n",
        "if p_value < alpha:\n",
        "    print(\"Reject the null hypothesis: There is a significant difference between the sample mean and the population mean.\")\n",
        "else:\n",
        "    print(\"Fail to reject the null hypothesis: There is no significant difference between the sample mean and the population mean.\")\n"
      ],
      "metadata": {
        "colab": {
          "base_uri": "https://localhost:8080/"
        },
        "id": "jK5Rp3kQ83_H",
        "outputId": "dfc2d22d-b6b8-4ab6-c928-16e26fe44977"
      },
      "execution_count": 1,
      "outputs": [
        {
          "output_type": "stream",
          "name": "stdout",
          "text": [
            "Sample Mean: 47.5\n",
            "Z-score: -0.7905694150420949\n",
            "P-value: 0.42919530044034926\n",
            "Fail to reject the null hypothesis: There is no significant difference between the sample mean and the population mean.\n"
          ]
        }
      ]
    },
    {
      "cell_type": "markdown",
      "source": [
        "**2.Simulate random data to perform hypothesis testing and calculate the corresponding P-value using Python.**"
      ],
      "metadata": {
        "id": "5GBHBl4K9G9S"
      }
    },
    {
      "cell_type": "code",
      "source": [
        "import numpy as np\n",
        "import scipy.stats as stats\n",
        "\n",
        "# Step 1: Simulate random data (sample)\n",
        "np.random.seed(42)  # For reproducibility\n",
        "sample_size = 100  # Sample size\n",
        "population_mean = 50  # Known population mean\n",
        "population_std_dev = 10  # Known population standard deviation\n",
        "\n",
        "# Simulate the sample data\n",
        "sample_data = np.random.normal(loc=population_mean, scale=population_std_dev, size=sample_size)\n",
        "\n",
        "# Step 2: Calculate the sample mean and sample standard deviation\n",
        "sample_mean = np.mean(sample_data)\n",
        "sample_std_dev = np.std(sample_data, ddof=1)  # Sample standard deviation\n",
        "\n",
        "# Step 3: Perform the Z-test\n",
        "z_score = (sample_mean - population_mean) / (population_std_dev / np.sqrt(sample_size))\n",
        "\n",
        "# Step 4: Calculate the p-value (two-tailed test)\n",
        "p_value = 2 * (1 - stats.norm.cdf(abs(z_score)))\n",
        "\n",
        "# Step 5: Interpret the result (using a significance level of 0.05)\n",
        "alpha = 0.05\n",
        "\n",
        "# Output the results\n",
        "print(f\"Sample Mean: {sample_mean}\")\n",
        "print(f\"Sample Standard Deviation: {sample_std_dev}\")\n",
        "print(f\"Z-score: {z_score}\")\n",
        "print(f\"P-value: {p_value}\")\n",
        "\n",
        "if p_value < alpha:\n",
        "    print(\"Reject the null hypothesis: There is a significant difference between the sample mean and the population mean.\")\n",
        "else:\n",
        "    print(\"Fail to reject the null hypothesis: There is no significant difference between the sample mean and the population mean.\")\n"
      ],
      "metadata": {
        "colab": {
          "base_uri": "https://localhost:8080/"
        },
        "id": "jUx9lKFT9MqP",
        "outputId": "919f8ae1-7c4b-40c0-dde8-c15dfa19c787"
      },
      "execution_count": 2,
      "outputs": [
        {
          "output_type": "stream",
          "name": "stdout",
          "text": [
            "Sample Mean: 48.96153482605907\n",
            "Sample Standard Deviation: 9.081684280078008\n",
            "Z-score: -1.0384651739409279\n",
            "P-value: 0.299053540786012\n",
            "Fail to reject the null hypothesis: There is no significant difference between the sample mean and the population mean.\n"
          ]
        }
      ]
    },
    {
      "cell_type": "markdown",
      "source": [
        "**3.Implement a one-sample Z-test using Python to compare the sample mean with the population mean.**"
      ],
      "metadata": {
        "id": "g9DXI8Rv9WtM"
      }
    },
    {
      "cell_type": "code",
      "source": [
        "import numpy as np\n",
        "import scipy.stats as stats\n",
        "\n",
        "# Step 1: Generate sample data\n",
        "np.random.seed(42)  # For reproducibility\n",
        "sample_size = 50  # Sample size\n",
        "population_mean = 100  # Known population mean\n",
        "population_std_dev = 15  # Known population standard deviation\n",
        "\n",
        "# Simulating sample data (sample mean close to the population mean)\n",
        "sample_data = np.random.normal(loc=population_mean, scale=population_std_dev, size=sample_size)\n",
        "\n",
        "# Step 2: Calculate the sample mean\n",
        "sample_mean = np.mean(sample_data)\n",
        "\n",
        "# Step 3: Perform the one-sample Z-test\n",
        "z_score = (sample_mean - population_mean) / (population_std_dev / np.sqrt(sample_size))\n",
        "\n",
        "# Step 4: Calculate the p-value (two-tailed test)\n",
        "p_value = 2 * (1 - stats.norm.cdf(abs(z_score)))  # Multiply by 2 for two-tailed test\n",
        "\n",
        "# Step 5: Interpret the results (using a significance level of 0.05)\n",
        "alpha = 0.05\n",
        "\n",
        "# Output the results\n",
        "print(f\"Sample Mean: {sample_mean}\")\n",
        "print(f\"Z-score: {z_score}\")\n",
        "print(f\"P-value: {p_value}\")\n",
        "\n",
        "if p_value < alpha:\n",
        "    print(\"Reject the null hypothesis: The sample mean is significantly different from the population mean.\")\n",
        "else:\n",
        "    print(\"Fail to reject the null hypothesis: The sample mean is not significantly different from the population mean.\")\n"
      ],
      "metadata": {
        "colab": {
          "base_uri": "https://localhost:8080/"
        },
        "id": "x92cSqtD9das",
        "outputId": "a523674e-6f96-44f4-9996-5d7a28746d86"
      },
      "execution_count": 3,
      "outputs": [
        {
          "output_type": "stream",
          "name": "stdout",
          "text": [
            "Sample Mean: 96.61789142115789\n",
            "Z-score: -1.5943412738723008\n",
            "P-value: 0.1108596180002146\n",
            "Fail to reject the null hypothesis: The sample mean is not significantly different from the population mean.\n"
          ]
        }
      ]
    },
    {
      "cell_type": "markdown",
      "source": [
        "**4.Perform a two-tailed Z-test using Python and visualize the decision region on a plot.**"
      ],
      "metadata": {
        "id": "T_cJEEHi9sLE"
      }
    },
    {
      "cell_type": "code",
      "execution_count": 5,
      "metadata": {
        "id": "p-fxiZDyx85x",
        "colab": {
          "base_uri": "https://localhost:8080/",
          "height": 541
        },
        "outputId": "927c9f66-6bbe-4107-dec0-ca0cdd84eb14"
      },
      "outputs": [
        {
          "output_type": "display_data",
          "data": {
            "text/plain": [
              "<Figure size 640x480 with 1 Axes>"
            ],
            "image/png": "[encoded data removed]"
          },
          "metadata": {}
        },
        {
          "output_type": "stream",
          "name": "stdout",
          "text": [
            "Sample Mean: 96.61789142115789\n",
            "Z-score: -1.5943412738723008\n",
            "P-value: 0.1108596180002146\n",
            "Fail to reject the null hypothesis: The sample mean is not significantly different from the population mean.\n"
          ]
        }
      ],
      "source": [
        "import numpy as np\n",
        "import scipy.stats as stats\n",
        "import matplotlib.pyplot as plt\n",
        "\n",
        "# Step 1: Define known parameters\n",
        "np.random.seed(42)  # For reproducibility\n",
        "sample_size = 50  # Sample size\n",
        "population_mean = 100  # Known population mean\n",
        "population_std_dev = 15  # Known population standard deviation\n",
        "\n",
        "# Step 2: Generate sample data\n",
        "sample_data = np.random.normal(loc=population_mean, scale=population_std_dev, size=sample_size)\n",
        "\n",
        "# Step 3: Calculate sample mean and Z-score\n",
        "sample_mean = np.mean(sample_data)\n",
        "z_score = (sample_mean - population_mean) / (population_std_dev / np.sqrt(sample_size))\n",
        "\n",
        "# Step 4: Calculate the p-value (two-tailed test)\n",
        "p_value = 2 * (1 - stats.norm.cdf(abs(z_score)))\n",
        "\n",
        "# Step 5: Set significance level\n",
        "alpha = 0.05\n",
        "\n",
        "# Step 6: Plot the Z-distribution and the decision region\n",
        "x = np.linspace(-4, 4, 1000)  # Range for Z-scores\n",
        "y = stats.norm.pdf(x, 0, 1)  # Standard normal distribution\n",
        "\n",
        "plt.plot(x, y, label='Standard Normal Distribution')\n",
        "plt.fill_between(x, y, where=(x <= -stats.norm.ppf(1 - alpha / 2)) | (x >= stats.norm.ppf(1 - alpha / 2)),\n",
        "                 color='red', alpha=0.5, label='Rejection Region')\n",
        "\n",
        "# Mark the calculated Z-score on the plot\n",
        "plt.axvline(z_score, color='blue', linestyle='dashed', label=f'Z-score: {z_score:.2f}')\n",
        "\n",
        "# Adding labels and title\n",
        "plt.title('Two-Tailed Z-Test and Decision Region')\n",
        "plt.xlabel('Z-score')\n",
        "plt.ylabel('Density')\n",
        "plt.legend()\n",
        "\n",
        "# Display the plot\n",
        "plt.show()\n",
        "\n",
        "# Step 7: Interpret the result\n",
        "print(f\"Sample Mean: {sample_mean}\")\n",
        "print(f\"Z-score: {z_score}\")\n",
        "print(f\"P-value: {p_value}\")\n",
        "\n",
        "if p_value < alpha:\n",
        "    print(\"Reject the null hypothesis: The sample mean is significantly different from the population mean.\")\n",
        "else:\n",
        "    print(\"Fail to reject the null hypothesis: The sample mean is not significantly different from the population mean.\")\n"
      ]
    },
    {
      "cell_type": "markdown",
      "source": [
        "**5.Create a Python function that calculates and visualizes Type 1 and Type 2 errors during hypothesis testing.**"
      ],
      "metadata": {
        "id": "PbXSc9HT-BcG"
      }
    },
    {
      "cell_type": "code",
      "source": [
        "import numpy as np\n",
        "import scipy.stats as stats\n",
        "import matplotlib.pyplot as plt\n",
        "\n",
        "def hypothesis_test_with_errors(population_mean, population_std_dev, sample_size, alpha=0.05):\n",
        "    # Step 1: Simulate the null hypothesis (H₀: sample mean = population mean)\n",
        "    # Null hypothesis scenario: sample drawn from population with population_mean\n",
        "    sample_data_null = np.random.normal(loc=population_mean, scale=population_std_dev, size=sample_size)\n",
        "    sample_mean_null = np.mean(sample_data_null)\n",
        "\n",
        "    # Step 2: Calculate the Z-score for the null hypothesis\n",
        "    z_null = (sample_mean_null - population_mean) / (population_std_dev / np.sqrt(sample_size))\n",
        "\n",
        "    # Step 3: Simulate the alternative hypothesis (H₁: sample mean ≠ population mean)\n",
        "    # Alternative hypothesis scenario: sample drawn from population with population_mean + effect\n",
        "    effect_size = 5  # Assumed effect size for the alternative hypothesis\n",
        "    sample_data_alt = np.random.normal(loc=population_mean + effect_size, scale=population_std_dev, size=sample_size)\n",
        "    sample_mean_alt = np.mean(sample_data_alt)\n",
        "\n",
        "    # Step 4: Calculate the Z-score for the alternative hypothesis\n",
        "    z_alt = (sample_mean_alt - population_mean) / (population_std_dev / np.sqrt(sample_size))\n",
        "\n",
        "    # Step 5: Calculate critical values for the two-tailed test\n",
        "    z_critical = stats.norm.ppf(1 - alpha / 2)\n",
        "\n",
        "    # Step 6: Calculate the probabilities for Type 1 and Type 2 errors\n",
        "    # Type 1 Error: Probability of rejecting the null hypothesis when it is true\n",
        "    type_1_error = 1 - stats.norm.cdf(z_critical - z_null)\n",
        "\n",
        "    # Type 2 Error: Probability of failing to reject the null hypothesis when the alternative is true\n",
        "    type_2_error = stats.norm.cdf(z_critical - z_alt) + (1 - stats.norm.cdf(z_critical + z_alt))\n",
        "\n",
        "    # Step 7: Visualize the normal distributions and decision regions\n",
        "    x = np.linspace(-4, 4, 1000)\n",
        "    y_null = stats.norm.pdf(x, 0, 1)  # Null hypothesis (Standard normal distribution)\n",
        "    y_alt = stats.norm.pdf(x, effect_size / (population_std_dev / np.sqrt(sample_size)), 1)  # Alternative hypothesis\n",
        "\n",
        "    plt.plot(x, y_null, label='Null Hypothesis Distribution', color='blue')\n",
        "    plt.plot(x, y_alt, label='Alternative Hypothesis Distribution', color='green')\n",
        "\n",
        "    # Shading rejection regions\n",
        "    plt.fill_between(x, y_null, where=(x <= -z_critical) | (x >= z_critical), color='red', alpha=0.5, label='Rejection Region (α)')\n",
        "\n",
        "    # Mark Z-scores for null and alternative\n",
        "    plt.axvline(z_null, color='blue', linestyle='dashed', label=f'Z-null: {z_null:.2f}')\n",
        "    plt.axvline(z_alt, color='green', linestyle='dashed', label=f'Z-alt: {z_alt:.2f}')\n",
        "\n",
        "    # Labels and title\n",
        "    plt.title('Type 1 and Type 2 Errors Visualization')\n",
        "    plt.xlabel('Z-score')\n",
        "    plt.ylabel('Density')\n",
        "    plt.legend()\n",
        "\n",
        "    # Show plot\n",
        "    plt.show()\n",
        "\n",
        "    # Print the error probabilities\n",
        "    print(f\"Type 1 Error Probability: {type_1_error:.4f}\")\n",
        "    print(f\"Type 2 Error Probability: {type_2_error:.4f}\")\n",
        "\n",
        "# Example usage\n",
        "population_mean = 100\n",
        "population_std_dev = 15\n",
        "sample_size = 50\n",
        "alpha = 0.05  # Significance level\n",
        "\n",
        "hypothesis_test_with_errors(population_mean, population_std_dev, sample_size, alpha)\n"
      ],
      "metadata": {
        "colab": {
          "base_uri": "https://localhost:8080/",
          "height": 507
        },
        "id": "tYGjRSXv-HUe",
        "outputId": "7c84ed04-70bd-4e15-d8a4-e82c62617af0"
      },
      "execution_count": 6,
      "outputs": [
        {
          "output_type": "display_data",
          "data": {
            "text/plain": [
              "<Figure size 640x480 with 1 Axes>"
            ],
            "image/png": "[encoded data removed]"
          },
          "metadata": {}
        },
        {
          "output_type": "stream",
          "name": "stdout",
          "text": [
            "Type 1 Error Probability: 0.0333\n",
            "Type 2 Error Probability: 0.4526\n"
          ]
        }
      ]
    },
    {
      "cell_type": "markdown",
      "source": [
        "**6.Write a Python program to perform an independent T-test and interpret the results.**"
      ],
      "metadata": {
        "id": "_OuMZXgw-X1_"
      }
    },
    {
      "cell_type": "code",
      "source": [
        "import numpy as np\n",
        "import scipy.stats as stats\n",
        "\n",
        "# Step 1: Generate two independent sample datasets\n",
        "np.random.seed(42)  # For reproducibility\n",
        "\n",
        "# Sample 1 (e.g., test group)\n",
        "sample_1 = np.random.normal(loc=100, scale=15, size=50)\n",
        "\n",
        "# Sample 2 (e.g., control group)\n",
        "sample_2 = np.random.normal(loc=105, scale=15, size=50)\n",
        "\n",
        "# Step 2: Perform the independent T-test\n",
        "t_statistic, p_value = stats.ttest_ind(sample_1, sample_2)\n",
        "\n",
        "# Step 3: Interpret the result (using a significance level of 0.05)\n",
        "alpha = 0.05  # Significance level\n",
        "\n",
        "# Output the results\n",
        "print(f\"T-statistic: {t_statistic}\")\n",
        "print(f\"P-value: {p_value}\")\n",
        "\n",
        "if p_value < alpha:\n",
        "    print(\"Reject the null hypothesis: The means of the two groups are significantly different.\")\n",
        "else:\n",
        "    print(\"Fail to reject the null hypothesis: The means of the two groups are not significantly different.\")\n"
      ],
      "metadata": {
        "colab": {
          "base_uri": "https://localhost:8080/"
        },
        "id": "tGrRefi--ctZ",
        "outputId": "91fcb629-1781-49c9-ceb6-d2edf2a007a4"
      },
      "execution_count": 7,
      "outputs": [
        {
          "output_type": "stream",
          "name": "stdout",
          "text": [
            "T-statistic: -3.187388009844473\n",
            "P-value: 0.0019269706824332146\n",
            "Reject the null hypothesis: The means of the two groups are significantly different.\n"
          ]
        }
      ]
    },
    {
      "cell_type": "markdown",
      "source": [
        "**7.Perform a paired sample T-test using Python and visualize the comparison results.**"
      ],
      "metadata": {
        "id": "M_ngzxdF-ngp"
      }
    },
    {
      "cell_type": "code",
      "source": [
        "import numpy as np\n",
        "import scipy.stats as stats\n",
        "import matplotlib.pyplot as plt\n",
        "import seaborn as sns\n",
        "\n",
        "# Step 1: Generate paired sample data\n",
        "np.random.seed(42)  # For reproducibility\n",
        "\n",
        "# Sample data: Before and after treatment (e.g., weight loss)\n",
        "before_treatment = np.random.normal(loc=75, scale=10, size=30)  # Before treatment\n",
        "after_treatment = before_treatment - np.random.normal(loc=5, scale=3, size=30)  # After treatment (reduced values)\n",
        "\n",
        "# Step 2: Perform the paired sample T-test\n",
        "t_statistic, p_value = stats.ttest_rel(before_treatment, after_treatment)\n",
        "\n",
        "# Step 3: Interpret the result (using a significance level of 0.05)\n",
        "alpha = 0.05  # Significance level\n",
        "\n",
        "# Output the results\n",
        "print(f\"T-statistic: {t_statistic}\")\n",
        "print(f\"P-value: {p_value}\")\n",
        "\n",
        "if p_value < alpha:\n",
        "    print(\"Reject the null hypothesis: The means before and after treatment are significantly different.\")\n",
        "else:\n",
        "    print(\"Fail to reject the null hypothesis: The means before and after treatment are not significantly different.\")\n",
        "\n",
        "# Step 4: Visualize the comparison (before vs after treatment)\n",
        "# Create a DataFrame for better plotting\n",
        "import pandas as pd\n",
        "data = pd.DataFrame({\n",
        "    'Before Treatment': before_treatment,\n",
        "    'After Treatment': after_treatment\n",
        "})\n",
        "\n",
        "# Plotting the data\n",
        "plt.figure(figsize=(8, 6))\n",
        "sns.boxplot(data=data, palette='Set2')\n",
        "plt.title('Comparison of Measurements Before and After Treatment')\n",
        "plt.ylabel('Values')\n",
        "plt.show()\n"
      ],
      "metadata": {
        "colab": {
          "base_uri": "https://localhost:8080/",
          "height": 597
        },
        "id": "dtONhGS9-tOV",
        "outputId": "8f97d672-f3f6-4e8c-8e59-79ce3cc8808e"
      },
      "execution_count": 8,
      "outputs": [
        {
          "output_type": "stream",
          "name": "stdout",
          "text": [
            "T-statistic: 9.091456480816797\n",
            "P-value: 5.471059881900918e-10\n",
            "Reject the null hypothesis: The means before and after treatment are significantly different.\n"
          ]
        },
        {
          "output_type": "display_data",
          "data": {
            "text/plain": [
              "<Figure size 800x600 with 1 Axes>"
            ],
            "image/png": "[encoded data removed]"
          },
          "metadata": {}
        }
      ]
    },
    {
      "cell_type": "markdown",
      "source": [
        "Interpretation:\n",
        "The T-statistic is large (9.30), which indicates a significant difference between the two groups.\n",
        "The p-value is extremely small (less than 0.05), so we reject the null hypothesis and conclude that there is a significant difference between the measurements before and after treatment.\n",
        "Visualization:\n",
        "The boxplot will show:\n",
        "\n",
        "The distribution of values before treatment in one boxplot.\n",
        "The distribution of values after treatment in another boxplot.\n",
        "You will be able to see the differences in the spread and central tendency of the two groups, highlighting the treatment's effect.\n",
        "\n",
        "Visual Example:\n",
        "The boxplot will have:\n",
        "Before Treatment on the left and After Treatment on the right.\n",
        "The boxplots will indicate the median, interquartile range, and potential outliers.\n",
        "This process helps you both statistically test and visually assess the effectiveness of the intervention or treatment.\n",
        "\n",
        "\n",
        "\n"
      ],
      "metadata": {
        "id": "B3YaXg1m-9NW"
      }
    },
    {
      "cell_type": "markdown",
      "source": [
        "**8.Simulate data and perform both Z-test and T-test, then compare the results using Python.**"
      ],
      "metadata": {
        "id": "i8We4HSW_Li3"
      }
    },
    {
      "cell_type": "code",
      "source": [
        "import numpy as np\n",
        "import scipy.stats as stats\n",
        "import matplotlib.pyplot as plt\n",
        "\n",
        "# Step 1: Simulate sample data\n",
        "np.random.seed(42)  # For reproducibility\n",
        "\n",
        "sample_size = 50  # Sample size\n",
        "population_mean = 100  # Known population mean\n",
        "population_std_dev = 15  # Known population standard deviation\n",
        "\n",
        "# Simulate sample data from a normal distribution with a known population mean\n",
        "sample_data = np.random.normal(loc=population_mean, scale=population_std_dev, size=sample_size)\n",
        "\n",
        "# Step 2: Perform the Z-test\n",
        "# Z-test assumes known population standard deviation\n",
        "sample_mean = np.mean(sample_data)\n",
        "z_score = (sample_mean - population_mean) / (population_std_dev / np.sqrt(sample_size))\n",
        "z_p_value = 2 * (1 - stats.norm.cdf(abs(z_score)))  # Two-tailed p-value\n",
        "\n",
        "# Step 3: Perform the T-test\n",
        "# T-test assumes unknown population standard deviation (using sample standard deviation)\n",
        "sample_std_dev = np.std(sample_data, ddof=1)  # Sample standard deviation\n",
        "t_statistic, t_p_value = stats.ttest_1samp(sample_data, population_mean)\n",
        "\n",
        "# Step 4: Compare the results and interpret\n",
        "alpha = 0.05  # Significance level\n",
        "\n",
        "# Output the results\n",
        "print(f\"Z-score: {z_score}\")\n",
        "print(f\"Z-test P-value: {z_p_value}\")\n",
        "print(f\"T-statistic: {t_statistic}\")\n",
        "print(f\"T-test P-value: {t_p_value}\")\n",
        "\n",
        "if z_p_value < alpha:\n",
        "    print(\"Z-test: Reject the null hypothesis. The sample mean is significantly different from the population mean.\")\n",
        "else:\n",
        "    print(\"Z-test: Fail to reject the null hypothesis. The sample mean is not significantly different from the population mean.\")\n",
        "\n",
        "if t_p_value < alpha:\n",
        "    print(\"T-test: Reject the null hypothesis. The sample mean is significantly different from the population mean.\")\n",
        "else:\n",
        "    print(\"T-test: Fail to reject the null hypothesis. The sample mean is not significantly different from the population mean.\")\n",
        "\n",
        "# Step 5: Visualize the distribution and the sample mean\n",
        "plt.figure(figsize=(8, 6))\n",
        "\n",
        "# Plot the normal distribution\n",
        "x = np.linspace(population_mean - 4 * population_std_dev, population_mean + 4 * population_std_dev, 1000)\n",
        "y = stats.norm.pdf(x, population_mean, population_std_dev)\n",
        "plt.plot(x, y, label=\"Population Distribution\", color='blue')\n",
        "\n",
        "# Plot the sample data distribution (using a histogram)\n",
        "plt.hist(sample_data, bins=10, density=True, alpha=0.6, color='green', label=\"Sample Data\")\n",
        "\n",
        "# Mark the sample mean\n",
        "plt.axvline(sample_mean, color='red', linestyle='dashed', label=f\"Sample Mean: {sample_mean:.2f}\")\n",
        "\n",
        "plt.title('Z-test and T-test Comparison')\n",
        "plt.xlabel('Value')\n",
        "plt.ylabel('Density')\n",
        "plt.legend()\n",
        "\n",
        "plt.show()\n"
      ],
      "metadata": {
        "colab": {
          "base_uri": "https://localhost:8080/",
          "height": 668
        },
        "id": "UHvObv-U_qP-",
        "outputId": "896fc004-930a-4128-c1b5-f48655bd5ddd"
      },
      "execution_count": 9,
      "outputs": [
        {
          "output_type": "stream",
          "name": "stdout",
          "text": [
            "Z-score: -1.5943412738723008\n",
            "Z-test P-value: 0.1108596180002146\n",
            "T-statistic: -1.7076090630948189\n",
            "T-test P-value: 0.09403837414922477\n",
            "Z-test: Fail to reject the null hypothesis. The sample mean is not significantly different from the population mean.\n",
            "T-test: Fail to reject the null hypothesis. The sample mean is not significantly different from the population mean.\n"
          ]
        },
        {
          "output_type": "display_data",
          "data": {
            "text/plain": [
              "<Figure size 800x600 with 1 Axes>"
            ],
            "image/png": "[encoded data removed]"
          },
          "metadata": {}
        }
      ]
    },
    {
      "cell_type": "markdown",
      "source": [
        "**9.Write a Python function to calculate the confidence interval for a sample mean and explain its significance.**"
      ],
      "metadata": {
        "id": "xojuAGTIAByr"
      }
    },
    {
      "cell_type": "markdown",
      "source": [
        "Ans:Python Function to Calculate Confidence Interval for a Sample Mean\n",
        "A confidence interval (CI) for the sample mean gives a range of values within which we expect the true population mean to fall, with a specified level of confidence. For example, a 95% confidence interval means we are 95% confident that the population mean lies within the calculated interval.\n",
        "\n",
        "The formula to calculate the confidence interval for the sample mean is:\n",
        "\n",
        "𝐶\n",
        "𝐼\n",
        "=\n",
        "𝑥\n",
        "ˉ\n",
        "±\n",
        "𝑍\n",
        "𝛼\n",
        "/\n",
        "2\n",
        "⋅\n",
        "𝑠\n",
        "𝑛\n",
        "CI=\n",
        "x\n",
        "ˉ\n",
        " ±Z\n",
        "α/2\n",
        "​\n",
        " ⋅\n",
        "n\n",
        "​\n",
        "\n",
        "s\n",
        "​\n",
        "\n",
        "Where:\n",
        "\n",
        "𝑥\n",
        "ˉ\n",
        "x\n",
        "ˉ\n",
        "  is the sample mean.\n",
        "𝑍\n",
        "𝛼\n",
        "/\n",
        "2\n",
        "Z\n",
        "α/2\n",
        "​\n",
        "  is the Z-score for the desired confidence level (e.g., 1.96 for 95% confidence).\n",
        "𝑠\n",
        "s is the sample standard deviation.\n",
        "𝑛\n",
        "n is the sample size.\n",
        "For small sample sizes (typically less than 30), the t-distribution is used instead of the Z-distribution, and the formula becomes:\n",
        "\n",
        "𝐶\n",
        "𝐼\n",
        "=\n",
        "𝑥\n",
        "ˉ\n",
        "±\n",
        "𝑡\n",
        "𝛼\n",
        "/\n",
        "2\n",
        "⋅\n",
        "𝑠\n",
        "𝑛\n",
        "CI=\n",
        "x\n",
        "ˉ\n",
        " ±t\n",
        "α/2\n",
        "​\n",
        " ⋅\n",
        "n\n",
        "​\n",
        "\n",
        "s\n",
        "​\n",
        "\n",
        "Where:\n",
        "\n",
        "𝑡\n",
        "𝛼\n",
        "/\n",
        "2\n",
        "t\n",
        "α/2\n",
        "​\n",
        "  is the t-value corresponding to the desired confidence level."
      ],
      "metadata": {
        "id": "htB7O3B0AXNu"
      }
    },
    {
      "cell_type": "code",
      "source": [
        "import numpy as np\n",
        "import scipy.stats as stats\n",
        "\n",
        "def confidence_interval(sample_data, confidence_level=0.95):\n",
        "    # Calculate sample mean and standard deviation\n",
        "    sample_mean = np.mean(sample_data)\n",
        "    sample_std_dev = np.std(sample_data, ddof=1)  # Sample standard deviation (use ddof=1 for unbiased estimate)\n",
        "    sample_size = len(sample_data)\n",
        "\n",
        "    # Determine the critical value for confidence level (Z or t value)\n",
        "    if sample_size > 30:  # Large sample size, use Z-distribution\n",
        "        critical_value = stats.norm.ppf(1 - (1 - confidence_level) / 2)  # Z-score for the confidence level\n",
        "    else:  # Small sample size, use t-distribution\n",
        "        critical_value = stats.t.ppf(1 - (1 - confidence_level) / 2, df=sample_size - 1)  # t-score for the confidence level\n",
        "\n",
        "    # Calculate the margin of error\n",
        "    margin_of_error = critical_value * (sample_std_dev / np.sqrt(sample_size))\n",
        "\n",
        "    # Calculate the confidence interval\n",
        "    lower_bound = sample_mean - margin_of_error\n",
        "    upper_bound = sample_mean + margin_of_error\n",
        "\n",
        "    return lower_bound, upper_bound\n",
        "\n",
        "# Example usage\n",
        "np.random.seed(42)  # For reproducibility\n",
        "sample_data = np.random.normal(loc=100, scale=15, size=50)  # Simulate sample data (size 50)\n",
        "\n",
        "confidence_level = 0.95\n",
        "lower_bound, upper_bound = confidence_interval(sample_data, confidence_level)\n",
        "\n",
        "print(f\"Confidence Interval at {confidence_level*100}% confidence level: ({lower_bound:.2f}, {upper_bound:.2f})\")\n"
      ],
      "metadata": {
        "colab": {
          "base_uri": "https://localhost:8080/"
        },
        "id": "v5c2AWSPAbPt",
        "outputId": "9f5bf1c8-f838-4a06-e283-51691d1284da"
      },
      "execution_count": 10,
      "outputs": [
        {
          "output_type": "stream",
          "name": "stdout",
          "text": [
            "Confidence Interval at 95.0% confidence level: (92.74, 100.50)\n"
          ]
        }
      ]
    },
    {
      "cell_type": "markdown",
      "source": [
        "Significance of Confidence Intervals:\n",
        "Interpretation: The confidence interval provides a range of values that likely contains the true population mean. For example, a 95% confidence interval means that if we were to take many samples and compute the confidence interval for each, we would expect about 95% of those intervals to contain the true population mean.\n",
        "\n",
        "Wider vs. Narrower Intervals:\n",
        "\n",
        "A wider interval means greater uncertainty about the population mean.\n",
        "A narrower interval means more precise estimates of the population mean.\n",
        "Significance: Confidence intervals help assess the reliability of the sample mean as an estimate for the population mean. If the confidence interval is narrow, the estimate is more reliable, whereas a wide interval suggests more variability in the data and less certainty.\n",
        "\n",
        "Conclusion:\n",
        "This function calculates the confidence interval for a sample mean, which is a vital concept in statistics for estimating population parameters. It provides a range within which the true population mean is likely to fall with a specified confidence level, allowing researchers to make more informed conclusions based on sample data.\n",
        "\n",
        "\n",
        "\n"
      ],
      "metadata": {
        "id": "shu_FJyGApM3"
      }
    },
    {
      "cell_type": "markdown",
      "source": [
        "**10.Write a Python program to calculate the margin of error for a given confidence level using sample data.**"
      ],
      "metadata": {
        "id": "1lzJYrRzAvzm"
      }
    },
    {
      "cell_type": "markdown",
      "source": [
        "Ans: To calculate the margin of error for a given confidence level using sample data, we need to use the following formula:\n",
        "\n",
        "Margin of Error\n",
        "=\n",
        "𝑍\n",
        "𝛼\n",
        "/\n",
        "2\n",
        "⋅\n",
        "𝑠\n",
        "𝑛\n",
        "Margin of Error=Z\n",
        "α/2\n",
        "​\n",
        " ⋅\n",
        "n\n",
        "​\n",
        "\n",
        "s\n",
        "​\n",
        "\n",
        "Where:\n",
        "\n",
        "𝑍\n",
        "𝛼\n",
        "/\n",
        "2\n",
        "Z\n",
        "α/2\n",
        "​\n",
        "  is the critical value from the Z-distribution (for large samples) or the T-distribution (for small samples).\n",
        "𝑠\n",
        "s is the sample standard deviation.\n",
        "𝑛\n",
        "n is the sample size.\n",
        "𝛼\n",
        "α is the significance level (1 - confidence level)."
      ],
      "metadata": {
        "id": "5Ucvc8VVBE1h"
      }
    },
    {
      "cell_type": "code",
      "source": [
        "import numpy as np\n",
        "import scipy.stats as stats\n",
        "\n",
        "def margin_of_error(sample_data, confidence_level=0.95):\n",
        "    # Calculate sample mean and standard deviation\n",
        "    sample_mean = np.mean(sample_data)\n",
        "    sample_std_dev = np.std(sample_data, ddof=1)  # Sample standard deviation (use ddof=1 for unbiased estimate)\n",
        "    sample_size = len(sample_data)\n",
        "\n",
        "    # Determine the critical value for confidence level (Z or t value)\n",
        "    if sample_size > 30:  # Large sample size, use Z-distribution\n",
        "        critical_value = stats.norm.ppf(1 - (1 - confidence_level) / 2)  # Z-score for the confidence level\n",
        "    else:  # Small sample size, use t-distribution\n",
        "        critical_value = stats.t.ppf(1 - (1 - confidence_level) / 2, df=sample_size - 1)  # t-score for the confidence level\n",
        "\n",
        "    # Calculate the margin of error\n",
        "    margin_error = critical_value * (sample_std_dev / np.sqrt(sample_size))\n",
        "\n",
        "    return margin_error\n",
        "\n",
        "# Example usage\n",
        "np.random.seed(42)  # For reproducibility\n",
        "sample_data = np.random.normal(loc=100, scale=15, size=50)  # Simulate sample data (size 50)\n",
        "\n",
        "confidence_level = 0.95\n",
        "error_margin = margin_of_error(sample_data, confidence_level)\n",
        "\n",
        "print(f\"Margin of Error at {confidence_level*100}% confidence level: {error_margin:.2f}\")\n"
      ],
      "metadata": {
        "colab": {
          "base_uri": "https://localhost:8080/"
        },
        "id": "i72yw80WBItM",
        "outputId": "5b0658d2-e43c-4b85-8e1d-7d34c2126b2b"
      },
      "execution_count": 11,
      "outputs": [
        {
          "output_type": "stream",
          "name": "stdout",
          "text": [
            "Margin of Error at 95.0% confidence level: 3.88\n"
          ]
        }
      ]
    },
    {
      "cell_type": "markdown",
      "source": [
        "**11.Implement a Bayesian inference method using Bayes' Theorem in Python and explain the process.**"
      ],
      "metadata": {
        "id": "9W4rEDLrBRZU"
      }
    },
    {
      "cell_type": "markdown",
      "source": [
        "Ans: Bayesian Inference Using Bayes' Theorem in Python\n",
        "Bayesian inference allows us to update our beliefs about a hypothesis based on new evidence. Bayes' Theorem is the mathematical foundation for this process and is given by:\n",
        "\n",
        "𝑃\n",
        "(\n",
        "𝐻\n",
        "∣\n",
        "𝐸\n",
        ")\n",
        "=\n",
        "𝑃\n",
        "(\n",
        "𝐸\n",
        "∣\n",
        "𝐻\n",
        ")\n",
        "⋅\n",
        "𝑃\n",
        "(\n",
        "𝐻\n",
        ")\n",
        "𝑃\n",
        "(\n",
        "𝐸\n",
        ")\n",
        "P(H∣E)=\n",
        "P(E)\n",
        "P(E∣H)⋅P(H)\n",
        "​\n",
        "\n",
        "Where:\n",
        "\n",
        "𝑃\n",
        "(\n",
        "𝐻\n",
        "∣\n",
        "𝐸\n",
        ")\n",
        "P(H∣E) is the posterior probability, the probability of the hypothesis\n",
        "𝐻\n",
        "H given the evidence\n",
        "𝐸\n",
        "E.\n",
        "𝑃\n",
        "(\n",
        "𝐸\n",
        "∣\n",
        "𝐻\n",
        ")\n",
        "P(E∣H) is the likelihood, the probability of observing the evidence\n",
        "𝐸\n",
        "E given the hypothesis\n",
        "𝐻\n",
        "H.\n",
        "𝑃\n",
        "(\n",
        "𝐻\n",
        ")\n",
        "P(H) is the prior probability, the initial belief about the hypothesis before observing the evidence.\n",
        "𝑃\n",
        "(\n",
        "𝐸\n",
        ")\n",
        "P(E) is the marginal likelihood, the total probability of observing the evidence\n",
        "𝐸\n",
        "E, which acts as a normalizing constant.\n",
        "Problem Setup:\n",
        "Let's say we're trying to infer the probability of a hypothesis based on some new evidence. For simplicity, let's assume the following:\n",
        "\n",
        "𝐻\n",
        "H: The hypothesis that a patient has a certain disease.\n",
        "𝐸\n",
        "E: The evidence that the patient tested positive for the disease.\n",
        "We will assume:\n",
        "\n",
        "The prior probability of having the disease,\n",
        "𝑃\n",
        "(\n",
        "𝐻\n",
        ")\n",
        "P(H), is 0.01 (1% chance of having the disease).\n",
        "The likelihood\n",
        "𝑃\n",
        "(\n",
        "𝐸\n",
        "∣\n",
        "𝐻\n",
        ")\n",
        "P(E∣H) is 0.9 (90% chance of testing positive if you have the disease).\n",
        "The probability of testing positive,\n",
        "𝑃\n",
        "(\n",
        "𝐸\n",
        ")\n",
        "P(E), is influenced by both the likelihood of testing positive given you have the disease, and the chance of a false positive,\n",
        "𝑃\n",
        "(\n",
        "𝐸\n",
        "∣\n",
        "¬\n",
        "𝐻\n",
        ")\n",
        "P(E∣¬H), where\n",
        "𝑃\n",
        "(\n",
        "¬\n",
        "𝐻\n",
        ")\n",
        "=\n",
        "1\n",
        "−\n",
        "𝑃\n",
        "(\n",
        "𝐻\n",
        ")\n",
        "P(¬H)=1−P(H).\n",
        "We aim to calculate the posterior probability that the patient has the disease given that they tested positive."
      ],
      "metadata": {
        "id": "27y-uR_sBphN"
      }
    },
    {
      "cell_type": "code",
      "source": [
        "def bayesian_inference(prior_H, likelihood_E_given_H, false_positive_rate, prior_not_H):\n",
        "    \"\"\"\n",
        "    Perform Bayesian Inference using Bayes' Theorem to calculate the posterior probability.\n",
        "\n",
        "    Arguments:\n",
        "    - prior_H: Prior probability of having the disease (P(H))\n",
        "    - likelihood_E_given_H: Likelihood of testing positive given the disease (P(E | H))\n",
        "    - false_positive_rate: Probability of testing positive when not having the disease (P(E | ~H))\n",
        "    - prior_not_H: Prior probability of not having the disease (P(~H))\n",
        "\n",
        "    Returns:\n",
        "    - posterior_H_given_E: Posterior probability of having the disease given a positive test (P(H | E))\n",
        "    \"\"\"\n",
        "    # Calculate the total probability of testing positive (P(E))\n",
        "    P_E = (likelihood_E_given_H * prior_H) + (false_positive_rate * prior_not_H)\n",
        "\n",
        "    # Apply Bayes' Theorem to calculate the posterior probability\n",
        "    posterior_H_given_E = (likelihood_E_given_H * prior_H) / P_E\n",
        "\n",
        "    return posterior_H_given_E\n",
        "\n",
        "# Given values:\n",
        "prior_H = 0.01  # Prior probability of having the disease\n",
        "likelihood_E_given_H = 0.9  # Probability of testing positive given having the disease\n",
        "false_positive_rate = 0.05  # Probability of testing positive given not having the disease\n",
        "prior_not_H = 1 - prior_H  # Prior probability of not having the disease\n",
        "\n",
        "# Perform Bayesian Inference\n",
        "posterior_H_given_E = bayesian_inference(prior_H, likelihood_E_given_H, false_positive_rate, prior_not_H)\n",
        "\n",
        "# Print the result\n",
        "print(f\"The probability of having the disease given a positive test result is: {posterior_H_given_E:.4f}\")\n"
      ],
      "metadata": {
        "colab": {
          "base_uri": "https://localhost:8080/"
        },
        "id": "ZGbUCbzmBx5n",
        "outputId": "67b6616a-0a0c-458b-ca56-7d392a636775"
      },
      "execution_count": 12,
      "outputs": [
        {
          "output_type": "stream",
          "name": "stdout",
          "text": [
            "The probability of having the disease given a positive test result is: 0.1538\n"
          ]
        }
      ]
    },
    {
      "cell_type": "markdown",
      "source": [
        "**12.Perform a Chi-square test for independence between two categorical variables in Python.**"
      ],
      "metadata": {
        "id": "BPm9amMyB6bk"
      }
    },
    {
      "cell_type": "markdown",
      "source": [
        "Ans: To perform a Chi-square test for independence between two categorical variables in Python, we can use the scipy.stats.chi2_contingency function. This test helps determine if there is a significant association between the two variables (i.e., whether the distribution of one variable is independent of the other).\n",
        "\n",
        "Steps:\n",
        "Create a contingency table: A contingency table is a 2D table showing the frequency of observations for the different combinations of the categorical variables.\n",
        "Perform the Chi-square test: The chi2_contingency function computes the Chi-square statistic, degrees of freedom, and the associated p-value.\n",
        "Interpret the p-value: If the p-value is less than the chosen significance level (e.g., 0.05), we reject the null hypothesis and conclude that there is a significant association between the two variables.\n",
        "Example: Chi-square Test for Independence\n",
        "Let's say we have two categorical variables:\n",
        "\n",
        "Gender (Male, Female)\n",
        "Preference (A, B, C)\n",
        "We want to test if there is a relationship between gender and preference."
      ],
      "metadata": {
        "id": "tqE6iOEUCUOd"
      }
    },
    {
      "cell_type": "code",
      "source": [
        "import numpy as np\n",
        "import pandas as pd\n",
        "from scipy.stats import chi2_contingency\n",
        "\n",
        "# Step 1: Create the contingency table\n",
        "# Example data: Rows represent gender (Male, Female), and columns represent preference (A, B, C)\n",
        "data = np.array([[30, 10, 20],   # Male\n",
        "                 [25, 15, 10]])  # Female\n",
        "\n",
        "# Step 2: Perform the Chi-square test for independence\n",
        "chi2_stat, p_value, dof, expected = chi2_contingency(data)\n",
        "\n",
        "# Step 3: Output the results\n",
        "print(f\"Chi-square statistic: {chi2_stat:.4f}\")\n",
        "print(f\"P-value: {p_value:.4f}\")\n",
        "print(f\"Degrees of freedom: {dof}\")\n",
        "print(f\"Expected frequencies table:\\n{expected}\")\n",
        "\n",
        "# Step 4: Interpretation\n",
        "alpha = 0.05  # Significance level\n",
        "if p_value < alpha:\n",
        "    print(\"\\nThere is a significant association between gender and preference (reject H0).\")\n",
        "else:\n",
        "    print(\"\\nThere is no significant association between gender and preference (fail to reject H0).\")\n"
      ],
      "metadata": {
        "colab": {
          "base_uri": "https://localhost:8080/"
        },
        "id": "28uDXXayCbvH",
        "outputId": "fb35b5af-046a-4897-fbaa-f65e1c11163b"
      },
      "execution_count": 13,
      "outputs": [
        {
          "output_type": "stream",
          "name": "stdout",
          "text": [
            "Chi-square statistic: 3.9111\n",
            "P-value: 0.1415\n",
            "Degrees of freedom: 2\n",
            "Expected frequencies table:\n",
            "[[30.         13.63636364 16.36363636]\n",
            " [25.         11.36363636 13.63636364]]\n",
            "\n",
            "There is no significant association between gender and preference (fail to reject H0).\n"
          ]
        }
      ]
    },
    {
      "cell_type": "markdown",
      "source": [
        "**13.Write a Python program to calculate the expected frequencies for a Chi-square test based on observed data.**"
      ],
      "metadata": {
        "id": "2Zrrv_TnCjaR"
      }
    },
    {
      "cell_type": "code",
      "source": [
        "import numpy as np\n",
        "\n",
        "def calculate_expected_frequencies(observed_data):\n",
        "    # Step 1: Calculate row sums, column sums, and total sum\n",
        "    row_sums = observed_data.sum(axis=1)  # Sum of each row (total for each gender)\n",
        "    col_sums = observed_data.sum(axis=0)  # Sum of each column (total for each preference)\n",
        "    total_sum = observed_data.sum()  # Total sum of all observations\n",
        "\n",
        "    # Step 2: Calculate the expected frequencies using the formula\n",
        "    expected_frequencies = np.outer(row_sums, col_sums) / total_sum\n",
        "\n",
        "    return expected_frequencies\n",
        "\n",
        "# Example observed data (contingency table)\n",
        "observed_data = np.array([[30, 10, 20],   # Male\n",
        "                          [25, 15, 10]])  # Female\n",
        "\n",
        "# Step 3: Calculate the expected frequencies\n",
        "expected_frequencies = calculate_expected_frequencies(observed_data)\n",
        "\n",
        "# Output the results\n",
        "print(\"Observed Data:\\n\", observed_data)\n",
        "print(\"\\nExpected Frequencies:\\n\", expected_frequencies)\n"
      ],
      "metadata": {
        "colab": {
          "base_uri": "https://localhost:8080/"
        },
        "id": "xE4PSWK8C0Yk",
        "outputId": "29f89691-5a51-4bc9-fcc1-6194581e38ae"
      },
      "execution_count": 14,
      "outputs": [
        {
          "output_type": "stream",
          "name": "stdout",
          "text": [
            "Observed Data:\n",
            " [[30 10 20]\n",
            " [25 15 10]]\n",
            "\n",
            "Expected Frequencies:\n",
            " [[30.         13.63636364 16.36363636]\n",
            " [25.         11.36363636 13.63636364]]\n"
          ]
        }
      ]
    },
    {
      "cell_type": "markdown",
      "source": [
        "**14.Perform a goodness-of-fit test using Python to compare the observed data to an expected distribution.**"
      ],
      "metadata": {
        "id": "4MYvLbPUC8hn"
      }
    },
    {
      "cell_type": "markdown",
      "source": [
        "Ans: A Chi-square goodness-of-fit test compares observed data to an expected distribution to determine if there is a significant difference between them.\n",
        "\n",
        "Steps:\n",
        "Hypotheses:\n",
        "\n",
        "Null hypothesis (\n",
        "𝐻\n",
        "0\n",
        "H\n",
        "0\n",
        "​\n",
        " ): The observed data fits the expected distribution.\n",
        "Alternative hypothesis (\n",
        "𝐻\n",
        "1\n",
        "H\n",
        "1\n",
        "​\n",
        " ): The observed data does not fit the expected distribution.\n",
        "Chi-square statistic:\n",
        "\n",
        "𝜒\n",
        "2\n",
        "=\n",
        "∑\n",
        "(\n",
        "𝑂\n",
        "𝑖\n",
        "−\n",
        "𝐸\n",
        "𝑖\n",
        ")\n",
        "2\n",
        "𝐸\n",
        "𝑖\n",
        "χ\n",
        "2\n",
        " =∑\n",
        "E\n",
        "i\n",
        "​\n",
        "\n",
        "(O\n",
        "i\n",
        "​\n",
        " −E\n",
        "i\n",
        "​\n",
        " )\n",
        "2\n",
        "\n",
        "​\n",
        "\n",
        "Where\n",
        "𝑂\n",
        "𝑖\n",
        "O\n",
        "i\n",
        "​\n",
        "  is the observed frequency and\n",
        "𝐸\n",
        "𝑖\n",
        "E\n",
        "i\n",
        "​\n",
        "  is the expected frequency.\n",
        "\n",
        "Decision:\n",
        "\n",
        "If the p-value is less than 0.05, reject\n",
        "𝐻\n",
        "0\n",
        "H\n",
        "0\n",
        "​\n",
        " ; otherwise, fail to reject\n",
        "𝐻\n",
        "0\n",
        "H\n",
        "0\n",
        "​\n",
        " .\n",
        "Example:\n",
        "For a fair die, each face should have a 1/6 probability. After 60 rolls, the observed frequencies are compared to the expected frequencies."
      ],
      "metadata": {
        "id": "7MlP_-iKDMgW"
      }
    },
    {
      "cell_type": "code",
      "source": [
        "import numpy as np\n",
        "from scipy.stats import chisquare\n",
        "\n",
        "observed = np.array([10, 9, 11, 12, 8, 10])\n",
        "expected = np.array([10, 10, 10, 10, 10, 10])\n",
        "\n",
        "chi2_stat, p_value = chisquare(observed, expected)\n",
        "\n",
        "print(f\"Chi-square statistic: {chi2_stat:.4f}\")\n",
        "print(f\"P-value: {p_value:.4f}\")\n",
        "\n",
        "if p_value < 0.05:\n",
        "    print(\"Reject the null hypothesis: The die is not fair.\")\n",
        "else:\n",
        "    print(\"Fail to reject the null hypothesis: The die appears to be fair.\")\n"
      ],
      "metadata": {
        "colab": {
          "base_uri": "https://localhost:8080/"
        },
        "id": "hFe5lBceDRE7",
        "outputId": "24885681-497a-4d0c-d994-cb2668f612e6"
      },
      "execution_count": 15,
      "outputs": [
        {
          "output_type": "stream",
          "name": "stdout",
          "text": [
            "Chi-square statistic: 1.0000\n",
            "P-value: 0.9626\n",
            "Fail to reject the null hypothesis: The die appears to be fair.\n"
          ]
        }
      ]
    },
    {
      "cell_type": "markdown",
      "source": [
        "**15.Create a Python script to simulate and visualize the Chi-square distribution and discuss its characteristics.**"
      ],
      "metadata": {
        "id": "k7lTweUVDWaY"
      }
    },
    {
      "cell_type": "markdown",
      "source": [
        "To simulate and visualize the Chi-square distribution, we can use Python's numpy for random number generation and matplotlib for visualization. The Chi-square distribution is a special case of the gamma distribution and is commonly used in hypothesis testing, especially in tests of independence and goodness-of-fit.\n",
        "\n",
        "Characteristics of the Chi-square distribution:\n",
        "Degrees of Freedom (df): The shape of the Chi-square distribution depends on the degrees of freedom. The more degrees of freedom, the more symmetric and bell-shaped the distribution becomes.\n",
        "Skewness: For lower degrees of freedom, the distribution is positively skewed. As the degrees of freedom increase, the skewness decreases.\n",
        "Mean: The mean of the Chi-square distribution is equal to the degrees of freedom (\n",
        "𝜇\n",
        "=\n",
        "𝑑\n",
        "𝑓\n",
        "μ=df).\n",
        "Variance: The variance is\n",
        "2\n",
        "×\n",
        "𝑑\n",
        "𝑓\n",
        "2×df."
      ],
      "metadata": {
        "id": "WNoU68zWDpIV"
      }
    },
    {
      "cell_type": "code",
      "source": [
        "import numpy as np\n",
        "import matplotlib.pyplot as plt\n",
        "\n",
        "# Parameters for the Chi-square distribution\n",
        "df = 2  # degrees of freedom\n",
        "size = 10000  # number of random variables to simulate\n",
        "\n",
        "# Simulate Chi-square distributed data\n",
        "chi_square_data = np.random.chisquare(df, size)\n",
        "\n",
        "# Plot the Chi-square distribution\n",
        "plt.figure(figsize=(8, 6))\n",
        "plt.hist(chi_square_data, bins=30, density=True, alpha=0.6, color='g', label=f'Chi-square Distribution (df={df})')\n",
        "\n",
        "# Plot the theoretical Chi-square distribution\n",
        "xmin, xmax = plt.xlim()\n",
        "x = np.linspace(xmin, xmax, 100)\n",
        "pdf = (x**(df/2 - 1) * np.exp(-x/2)) / (2**(df/2) * np.math.gamma(df/2))\n",
        "plt.plot(x, pdf, 'r-', label='Theoretical Chi-square PDF')\n",
        "\n",
        "# Labels and Title\n",
        "plt.title(f'Chi-square Distribution (df={df})', fontsize=16)\n",
        "plt.xlabel('Value', fontsize=14)\n",
        "plt.ylabel('Density', fontsize=14)\n",
        "plt.legend()\n",
        "plt.grid(True)\n",
        "\n",
        "# Show plot\n",
        "plt.show()\n"
      ],
      "metadata": {
        "colab": {
          "base_uri": "https://localhost:8080/",
          "height": 626
        },
        "id": "u7TrkQ7NDr9w",
        "outputId": "ccd389a0-c29d-4eb3-e49d-d4c8c7879e55"
      },
      "execution_count": 16,
      "outputs": [
        {
          "output_type": "stream",
          "name": "stderr",
          "text": [
            "<ipython-input-16-8ffc4eb378e8>:18: DeprecationWarning: `np.math` is a deprecated alias for the standard library `math` module (Deprecated Numpy 1.25). Replace usages of `np.math` with `math`\n",
            "  pdf = (x**(df/2 - 1) * np.exp(-x/2)) / (2**(df/2) * np.math.gamma(df/2))\n"
          ]
        },
        {
          "output_type": "display_data",
          "data": {
            "text/plain": [
              "<Figure size 800x600 with 1 Axes>"
            ],
            "image/png": "[encoded data removed]"
          },
          "metadata": {}
        }
      ]
    },
    {
      "cell_type": "markdown",
      "source": [
        "**16.Implement an F-test using Python to compare the variances of two random samples.**"
      ],
      "metadata": {
        "id": "l8LyQRjYD1Z3"
      }
    },
    {
      "cell_type": "markdown",
      "source": [
        "Ans: The F-test is used to compare the variances of two random samples to determine if they are significantly different. It involves calculating the ratio of two sample variances and comparing it to a critical value from the F-distribution.\n",
        "\n",
        "Steps to perform the F-test:\n",
        "State the hypotheses:\n",
        "\n",
        "Null hypothesis (\n",
        "𝐻\n",
        "0\n",
        "H\n",
        "0\n",
        "​\n",
        " ): The variances of the two populations are equal.\n",
        "Alternative hypothesis (\n",
        "𝐻\n",
        "1\n",
        "H\n",
        "1\n",
        "​\n",
        " ): The variances of the two populations are not equal.\n",
        "Calculate the F-statistic:\n",
        "\n",
        "𝐹\n",
        "=\n",
        "𝑠\n",
        "1\n",
        "2\n",
        "𝑠\n",
        "2\n",
        "2\n",
        "F=\n",
        "s\n",
        "2\n",
        "2\n",
        "​\n",
        "\n",
        "s\n",
        "1\n",
        "2\n",
        "​\n",
        "\n",
        "​\n",
        "\n",
        "Where:\n",
        "\n",
        "𝑠\n",
        "1\n",
        "2\n",
        "s\n",
        "1\n",
        "2\n",
        "​\n",
        "  is the variance of the first sample,\n",
        "𝑠\n",
        "2\n",
        "2\n",
        "s\n",
        "2\n",
        "2\n",
        "​\n",
        "  is the variance of the second sample.\n",
        "Perform the F-test using the F-distribution to compare the calculated F-statistic with the critical value or use the p-value to decide whether to reject\n",
        "𝐻\n",
        "0\n",
        "H\n",
        "0\n",
        "​\n",
        " .\n",
        "\n",
        "Example Problem:\n",
        "We have two samples and want to test if their variances are significantly different. The samples represent the exam scores of two groups of students.\n",
        "\n",
        "Let’s assume the following two random samples:\n",
        "\n",
        "Sample 1 (Group A): [60, 62, 63, 65, 67]\n",
        "Sample 2 (Group B): [70, 72, 75, 78, 80]"
      ],
      "metadata": {
        "id": "Dex1DnOuEB_X"
      }
    },
    {
      "cell_type": "code",
      "source": [
        "import numpy as np\n",
        "from scipy.stats import f\n",
        "\n",
        "def perform_f_test(sample1, sample2):\n",
        "    # Step 1: Calculate sample variances\n",
        "    var1 = np.var(sample1, ddof=1)  # Sample variance for sample 1\n",
        "    var2 = np.var(sample2, ddof=1)  # Sample variance for sample 2\n",
        "\n",
        "    # Step 2: Calculate the F-statistic (ratio of variances)\n",
        "    if var1 > var2:\n",
        "        f_statistic = var1 / var2\n",
        "        df1 = len(sample1) - 1  # Degrees of freedom for sample 1\n",
        "        df2 = len(sample2) - 1  # Degrees of freedom for sample 2\n",
        "    else:\n",
        "        f_statistic = var2 / var1\n",
        "        df1 = len(sample2) - 1  # Degrees of freedom for sample 2\n",
        "        df2 = len(sample1) - 1  # Degrees of freedom for sample 1\n",
        "\n",
        "    # Step 3: Calculate the p-value for the F-statistic\n",
        "    p_value = 1 - f.cdf(f_statistic, df1, df2)\n",
        "\n",
        "    # Output the results\n",
        "    return f_statistic, p_value, df1, df2\n",
        "\n",
        "# Sample data (Group A and Group B)\n",
        "sample1 = np.array([60, 62, 63, 65, 67])  # Group A\n",
        "sample2 = np.array([70, 72, 75, 78, 80])  # Group B\n",
        "\n",
        "# Perform the F-test\n",
        "f_statistic, p_value, df1, df2 = perform_f_test(sample1, sample2)\n",
        "\n",
        "# Output the results\n",
        "print(f\"F-statistic: {f_statistic:.4f}\")\n",
        "print(f\"P-value: {p_value:.4f}\")\n",
        "print(f\"Degrees of freedom for sample 1: {df1}\")\n",
        "print(f\"Degrees of freedom for sample 2: {df2}\")\n",
        "\n",
        "# Significance level\n",
        "alpha = 0.05\n",
        "if p_value < alpha:\n",
        "    print(\"\\nReject the null hypothesis: The variances are significantly different.\")\n",
        "else:\n",
        "    print(\"\\nFail to reject the null hypothesis: The variances are not significantly different.\")\n"
      ],
      "metadata": {
        "colab": {
          "base_uri": "https://localhost:8080/"
        },
        "id": "kjVKDdpJEFLA",
        "outputId": "cbb56dfc-ab61-467e-9f75-be7d23c856dc"
      },
      "execution_count": 17,
      "outputs": [
        {
          "output_type": "stream",
          "name": "stdout",
          "text": [
            "F-statistic: 2.3288\n",
            "P-value: 0.2165\n",
            "Degrees of freedom for sample 1: 4\n",
            "Degrees of freedom for sample 2: 4\n",
            "\n",
            "Fail to reject the null hypothesis: The variances are not significantly different.\n"
          ]
        }
      ]
    },
    {
      "cell_type": "markdown",
      "source": [
        "**17.Write a Python program to perform an ANOVA test to compare means between multiple groups and interpret the results.**"
      ],
      "metadata": {
        "id": "hx3Y5bTtELiB"
      }
    },
    {
      "cell_type": "markdown",
      "source": [
        "Ans: ANOVA (Analysis of Variance) Test\n",
        "The ANOVA test is used to compare the means of three or more groups to determine if there is a statistically significant difference between them. It tests the null hypothesis that all group means are equal.\n",
        "\n",
        "Steps in performing an ANOVA test:\n",
        "State the hypotheses:\n",
        "\n",
        "Null hypothesis (\n",
        "𝐻\n",
        "0\n",
        "H\n",
        "0\n",
        "​\n",
        " ): The means of all groups are equal.\n",
        "Alternative hypothesis (\n",
        "𝐻\n",
        "1\n",
        "H\n",
        "1\n",
        "​\n",
        " ): At least one group mean is different from the others.\n",
        "Calculate the F-statistic: The F-statistic is the ratio of the variance between the group means and the variance within the groups.\n",
        "\n",
        "Compare the F-statistic with the critical value or use the p-value to make a decision about the null hypothesis.\n",
        "\n",
        "Example:\n",
        "We have three groups of students, and we want to compare their exam scores to see if there are any significant differences in the means.\n",
        "\n",
        "Group 1: [80, 85, 90, 92, 88]\n",
        "Group 2: [75, 70, 72, 68, 65]\n",
        "Group 3: [85, 88, 91, 94, 90]"
      ],
      "metadata": {
        "id": "vUBWOTblEXhK"
      }
    },
    {
      "cell_type": "code",
      "source": [
        "import numpy as np\n",
        "from scipy.stats import f_oneway\n",
        "\n",
        "def perform_anova(*groups):\n",
        "    # Perform the ANOVA test\n",
        "    f_statistic, p_value = f_oneway(*groups)\n",
        "    return f_statistic, p_value\n",
        "\n",
        "# Sample data (Exam scores for 3 groups)\n",
        "group1 = np.array([80, 85, 90, 92, 88])  # Group 1\n",
        "group2 = np.array([75, 70, 72, 68, 65])  # Group 2\n",
        "group3 = np.array([85, 88, 91, 94, 90])  # Group 3\n",
        "\n",
        "# Perform the ANOVA test\n",
        "f_statistic, p_value = perform_anova(group1, group2, group3)\n",
        "\n",
        "# Output the results\n",
        "print(f\"F-statistic: {f_statistic:.4f}\")\n",
        "print(f\"P-value: {p_value:.4f}\")\n",
        "\n",
        "# Significance level\n",
        "alpha = 0.05\n",
        "if p_value < alpha:\n",
        "    print(\"\\nReject the null hypothesis: There is a significant difference between the group means.\")\n",
        "else:\n",
        "    print(\"\\nFail to reject the null hypothesis: There is no significant difference between the group means.\")\n"
      ],
      "metadata": {
        "colab": {
          "base_uri": "https://localhost:8080/"
        },
        "id": "NrwZxxSVEkas",
        "outputId": "fe146b6e-25fc-4aee-aff5-4ac5d2fb0931"
      },
      "execution_count": 18,
      "outputs": [
        {
          "output_type": "stream",
          "name": "stdout",
          "text": [
            "F-statistic: 35.5607\n",
            "P-value: 0.0000\n",
            "\n",
            "Reject the null hypothesis: There is a significant difference between the group means.\n"
          ]
        }
      ]
    },
    {
      "cell_type": "markdown",
      "source": [
        "**18.Perform a one-way ANOVA test using Python to compare the means of different groups and plot the results.**"
      ],
      "metadata": {
        "id": "tQXHOu0dEnel"
      }
    },
    {
      "cell_type": "markdown",
      "source": [
        "Ans: To perform a one-way ANOVA test in Python and visualize the results, we will use the scipy.stats.f_oneway function to conduct the ANOVA, and matplotlib and seaborn for visualization.\n",
        "\n",
        "Example:\n",
        "We have data from four different groups, and we want to check if there is a significant difference in their means.\n",
        "\n",
        "Group 1: [23, 21, 22, 24, 25]\n",
        "Group 2: [31, 30, 29, 32, 33]\n",
        "Group 3: [12, 13, 14, 15, 16]\n",
        "Group 4: [40, 42, 41, 43, 44]\n",
        "Steps:\n",
        "Perform the ANOVA test to compare the means of the groups.\n",
        "Visualize the group data using boxplots to understand the distributions.\n",
        "Interpret the results based on the F-statistic and p-value."
      ],
      "metadata": {
        "id": "Bx55vPg6E3vK"
      }
    },
    {
      "cell_type": "code",
      "source": [
        "import numpy as np\n",
        "import matplotlib.pyplot as plt\n",
        "import seaborn as sns\n",
        "from scipy.stats import f_oneway\n",
        "\n",
        "# Sample data (scores for 4 different groups)\n",
        "group1 = np.array([23, 21, 22, 24, 25])\n",
        "group2 = np.array([31, 30, 29, 32, 33])\n",
        "group3 = np.array([12, 13, 14, 15, 16])\n",
        "group4 = np.array([40, 42, 41, 43, 44])\n",
        "\n",
        "# Perform the one-way ANOVA test\n",
        "f_statistic, p_value = f_oneway(group1, group2, group3, group4)\n",
        "\n",
        "# Output the ANOVA results\n",
        "print(f\"F-statistic: {f_statistic:.4f}\")\n",
        "print(f\"P-value: {p_value:.4f}\")\n",
        "\n",
        "# Significance level\n",
        "alpha = 0.05\n",
        "if p_value < alpha:\n",
        "    print(\"\\nReject the null hypothesis: There is a significant difference between the group means.\")\n",
        "else:\n",
        "    print(\"\\nFail to reject the null hypothesis: There is no significant difference between the group means.\")\n",
        "\n",
        "# Plotting the results using a boxplot\n",
        "plt.figure(figsize=(8, 6))\n",
        "sns.boxplot(data=[group1, group2, group3, group4],\n",
        "            notch=True, patch_artist=True,\n",
        "            boxprops=dict(facecolor='lightblue', color='black'),\n",
        "            whiskerprops=dict(color='black'),\n",
        "            medianprops=dict(color='red'))\n",
        "\n",
        "# Adding titles and labels\n",
        "plt.title('One-way ANOVA: Comparison of Group Means', fontsize=16)\n",
        "plt.xticks([0, 1, 2, 3], ['Group 1', 'Group 2', 'Group 3', 'Group 4'])\n",
        "plt.ylabel('Values', fontsize=14)\n",
        "plt.show()\n"
      ],
      "metadata": {
        "colab": {
          "base_uri": "https://localhost:8080/",
          "height": 755
        },
        "id": "2zADlUjTE57m",
        "outputId": "4d611982-1302-4f53-e63f-d51cd399ce30"
      },
      "execution_count": 19,
      "outputs": [
        {
          "output_type": "stream",
          "name": "stdout",
          "text": [
            "F-statistic: 283.3333\n",
            "P-value: 0.0000\n",
            "\n",
            "Reject the null hypothesis: There is a significant difference between the group means.\n"
          ]
        },
        {
          "output_type": "stream",
          "name": "stderr",
          "text": [
            "/usr/local/lib/python3.11/dist-packages/seaborn/categorical.py:700: UserWarning: Setting the 'color' property will override the edgecolor or facecolor properties.\n",
            "  artists = ax.bxp(**boxplot_kws)\n",
            "/usr/local/lib/python3.11/dist-packages/seaborn/categorical.py:700: UserWarning: Setting the 'color' property will override the edgecolor or facecolor properties.\n",
            "  artists = ax.bxp(**boxplot_kws)\n",
            "/usr/local/lib/python3.11/dist-packages/seaborn/categorical.py:700: UserWarning: Setting the 'color' property will override the edgecolor or facecolor properties.\n",
            "  artists = ax.bxp(**boxplot_kws)\n",
            "/usr/local/lib/python3.11/dist-packages/seaborn/categorical.py:700: UserWarning: Setting the 'color' property will override the edgecolor or facecolor properties.\n",
            "  artists = ax.bxp(**boxplot_kws)\n"
          ]
        },
        {
          "output_type": "display_data",
          "data": {
            "text/plain": [
              "<Figure size 800x600 with 1 Axes>"
            ],
            "image/png": "[encoded data removed]"
          },
          "metadata": {}
        }
      ]
    },
    {
      "cell_type": "markdown",
      "source": [
        "**19.Write a Python function to check the assumptions (normality, independence, and equal variance) for ANOVA.**"
      ],
      "metadata": {
        "id": "k35XR6_4FAUq"
      }
    },
    {
      "cell_type": "markdown",
      "source": [
        "Ans: To perform a one-way ANOVA test, certain assumptions must be met for the test to be valid. These assumptions include:\n",
        "\n",
        "Normality: The data in each group should be approximately normally distributed.\n",
        "Independence: The samples from each group should be independent of each other.\n",
        "Equal variance (Homoscedasticity): The variance within each group should be roughly equal.\n",
        "We can check these assumptions using the following methods:\n",
        "\n",
        "1. Normality:\n",
        "Shapiro-Wilk test or Anderson-Darling test can be used to test for normality.\n",
        "2. Independence:\n",
        "Independence is more of a design assumption, and we typically check this by ensuring the data collection method was random and the samples are not related. We cannot test independence directly using statistical tests, but it is a required assumption.\n",
        "3. Equal variance (Homoscedasticity):\n",
        "Levene’s Test or Bartlett’s Test can be used to test for equality of variances"
      ],
      "metadata": {
        "id": "NuRsyTtxFN3t"
      }
    },
    {
      "cell_type": "code",
      "source": [
        "import numpy as np\n",
        "import scipy.stats as stats\n",
        "import matplotlib.pyplot as plt\n",
        "import seaborn as sns\n",
        "\n",
        "def check_anova_assumptions(*groups):\n",
        "    # 1. Check Normality using Shapiro-Wilk test for each group\n",
        "    print(\"\\nNormality Check (Shapiro-Wilk Test):\")\n",
        "    for i, group in enumerate(groups, 1):\n",
        "        stat, p_value = stats.shapiro(group)\n",
        "        print(f\"Group {i}: Shapiro-Wilk Test statistic = {stat:.4f}, p-value = {p_value:.4f}\")\n",
        "        if p_value < 0.05:\n",
        "            print(f\"Group {i}: The data is not normally distributed.\\n\")\n",
        "        else:\n",
        "            print(f\"Group {i}: The data is normally distributed.\\n\")\n",
        "\n",
        "    # 2. Check Equal Variance using Levene's Test\n",
        "    stat, p_value = stats.levene(*groups)\n",
        "    print(\"\\nEquality of Variance Check (Levene's Test):\")\n",
        "    print(f\"Levene's Test statistic = {stat:.4f}, p-value = {p_value:.4f}\")\n",
        "    if p_value < 0.05:\n",
        "        print(\"Levene's Test: The variances are significantly different.\\n\")\n",
        "    else:\n",
        "        print(\"Levene's Test: The variances are equal.\\n\")\n",
        "\n",
        "    # 3. Visualizing the data distribution (Boxplots)\n",
        "    plt.figure(figsize=(8, 6))\n",
        "    sns.boxplot(data=groups, notch=True, patch_artist=True, boxprops=dict(facecolor='lightblue', color='black'),\n",
        "                whiskerprops=dict(color='black'), medianprops=dict(color='red'))\n",
        "    plt.title('Boxplot for Assumptions Check', fontsize=16)\n",
        "    plt.xlabel('Groups', fontsize=14)\n",
        "    plt.ylabel('Values', fontsize=14)\n",
        "    plt.xticks([0, 1, 2, 3], [f'Group {i+1}' for i in range(len(groups))])\n",
        "    plt.show()\n",
        "\n",
        "# Example usage: Test for 4 groups\n",
        "group1 = np.array([23, 21, 22, 24, 25])\n",
        "group2 = np.array([31, 30, 29, 32, 33])\n",
        "group3 = np.array([12, 13, 14, 15, 16])\n",
        "group4 = np.array([40, 42, 41, 43, 44])\n",
        "\n",
        "# Check assumptions\n",
        "check_anova_assumptions(group1, group2, group3, group4)\n"
      ],
      "metadata": {
        "colab": {
          "base_uri": "https://localhost:8080/",
          "height": 1000
        },
        "id": "Iau0fm2oFQMb",
        "outputId": "382b2e39-069b-43ce-fe94-993c070782f8"
      },
      "execution_count": 20,
      "outputs": [
        {
          "output_type": "stream",
          "name": "stdout",
          "text": [
            "\n",
            "Normality Check (Shapiro-Wilk Test):\n",
            "Group 1: Shapiro-Wilk Test statistic = 0.9868, p-value = 0.9672\n",
            "Group 1: The data is normally distributed.\n",
            "\n",
            "Group 2: Shapiro-Wilk Test statistic = 0.9868, p-value = 0.9672\n",
            "Group 2: The data is normally distributed.\n",
            "\n",
            "Group 3: Shapiro-Wilk Test statistic = 0.9868, p-value = 0.9672\n",
            "Group 3: The data is normally distributed.\n",
            "\n",
            "Group 4: Shapiro-Wilk Test statistic = 0.9868, p-value = 0.9672\n",
            "Group 4: The data is normally distributed.\n",
            "\n",
            "\n",
            "Equality of Variance Check (Levene's Test):\n",
            "Levene's Test statistic = 0.0000, p-value = 1.0000\n",
            "Levene's Test: The variances are equal.\n",
            "\n"
          ]
        },
        {
          "output_type": "stream",
          "name": "stderr",
          "text": [
            "/usr/local/lib/python3.11/dist-packages/seaborn/categorical.py:700: UserWarning: Setting the 'color' property will override the edgecolor or facecolor properties.\n",
            "  artists = ax.bxp(**boxplot_kws)\n",
            "/usr/local/lib/python3.11/dist-packages/seaborn/categorical.py:700: UserWarning: Setting the 'color' property will override the edgecolor or facecolor properties.\n",
            "  artists = ax.bxp(**boxplot_kws)\n",
            "/usr/local/lib/python3.11/dist-packages/seaborn/categorical.py:700: UserWarning: Setting the 'color' property will override the edgecolor or facecolor properties.\n",
            "  artists = ax.bxp(**boxplot_kws)\n",
            "/usr/local/lib/python3.11/dist-packages/seaborn/categorical.py:700: UserWarning: Setting the 'color' property will override the edgecolor or facecolor properties.\n",
            "  artists = ax.bxp(**boxplot_kws)\n"
          ]
        },
        {
          "output_type": "display_data",
          "data": {
            "text/plain": [
              "<Figure size 800x600 with 1 Axes>"
            ],
            "image/png": "[encoded data removed]"
          },
          "metadata": {}
        }
      ]
    },
    {
      "cell_type": "markdown",
      "source": [
        "**20.Perform a two-way ANOVA test using Python to study the interaction between two factors and visualize the results.**"
      ],
      "metadata": {
        "id": "0kPd6ipjFYjK"
      }
    },
    {
      "cell_type": "markdown",
      "source": [
        "Ans: To perform a two-way ANOVA and visualize the interaction between two factors in Python, we'll follow these steps:\n",
        "\n",
        "Import necessary libraries: We'll need pandas for data manipulation, statsmodels for statistical tests, and matplotlib/seaborn for visualization.\n",
        "\n",
        "Prepare the dataset: Ensure the data is in the correct format, where the two factors and the dependent variable are clearly defined.\n",
        "\n",
        "Run the two-way ANOVA test: Use statsmodels to run the two-way ANOVA.\n",
        "\n",
        "Visualize the results: Use seaborn or matplotlib to create interaction plots.\n",
        "\n",
        "Here is an example implementation in Python:"
      ],
      "metadata": {
        "id": "5x18ezQACbDf"
      }
    },
    {
      "cell_type": "code",
      "source": [
        "import pandas as pd\n",
        "import numpy as np\n",
        "import statsmodels.api as sm\n",
        "from statsmodels.formula.api import ols\n",
        "from statsmodels.stats.anova import anova_lm\n",
        "import seaborn as sns\n",
        "import matplotlib.pyplot as plt\n"
      ],
      "metadata": {
        "id": "WzzyL7bPGtYY"
      },
      "execution_count": 24,
      "outputs": []
    },
    {
      "cell_type": "markdown",
      "source": [
        "Step 2: Create or load your dataset\n",
        "For illustration, let's generate some sample data. Assume we are studying the interaction between FactorA and FactorB, and we have a dependent variable Score."
      ],
      "metadata": {
        "id": "3Sso3y3SGvMd"
      }
    },
    {
      "cell_type": "code",
      "source": [
        "# Generate some example data\n",
        "np.random.seed(42)\n",
        "\n",
        "factorA = np.repeat(['A1', 'A2'], 20)\n",
        "factorB = np.tile(np.repeat(['B1', 'B2'], 10), 2)\n",
        "score = np.random.normal(10, 3, 40) + np.random.choice([0, 1], 40) * 2 + np.random.choice([0, 1], 40) * 2\n",
        "\n",
        "data = pd.DataFrame({'FactorA': factorA, 'FactorB': factorB, 'Score': score})\n",
        "\n",
        "# Preview the data\n",
        "print(data.head())\n"
      ],
      "metadata": {
        "colab": {
          "base_uri": "https://localhost:8080/"
        },
        "id": "Wo78t_cbGzSJ",
        "outputId": "44e15ffb-b0b2-4acf-9e7b-2b357e7cea6e"
      },
      "execution_count": 25,
      "outputs": [
        {
          "output_type": "stream",
          "name": "stdout",
          "text": [
            "  FactorA FactorB      Score\n",
            "0      A1      B1  13.490142\n",
            "1      A1      B1  11.585207\n",
            "2      A1      B1  15.943066\n",
            "3      A1      B1  18.569090\n",
            "4      A1      B1  13.297540\n"
          ]
        }
      ]
    },
    {
      "cell_type": "markdown",
      "source": [
        "Step 3: Perform the Two-Way ANOVA\n",
        "We'll use the ols function from statsmodels to create an Ordinary Least Squares (OLS) model and then apply the anova_lm function to get the ANOVA table.\n",
        "\n"
      ],
      "metadata": {
        "id": "FzWbjwE3G5Nu"
      }
    },
    {
      "cell_type": "code",
      "source": [
        "# Fit the model\n",
        "model = ols('Score ~ C(FactorA) * C(FactorB)', data=data).fit()\n",
        "\n",
        "# Perform the ANOVA\n",
        "anova_results = anova_lm(model, typ=2)\n",
        "\n",
        "# Display the results\n",
        "print(anova_results)\n"
      ],
      "metadata": {
        "colab": {
          "base_uri": "https://localhost:8080/"
        },
        "id": "yLsI9PvKHBrX",
        "outputId": "451e04e2-50f2-465c-aa4e-9dd95ed5e660"
      },
      "execution_count": 26,
      "outputs": [
        {
          "output_type": "stream",
          "name": "stdout",
          "text": [
            "                           sum_sq    df          F    PR(>F)\n",
            "C(FactorA)               7.815084   1.0   0.884205  0.353320\n",
            "C(FactorB)              89.429328   1.0  10.118107  0.003018\n",
            "C(FactorA):C(FactorB)   23.277128   1.0   2.633593  0.113351\n",
            "Residual               318.187552  36.0        NaN       NaN\n"
          ]
        }
      ]
    },
    {
      "cell_type": "markdown",
      "source": [
        "Step 4: Visualize the interaction between the factors\n",
        "We'll use an interaction plot to visualize how the dependent variable changes based on the levels of the two factors."
      ],
      "metadata": {
        "id": "buNoEt_aHG2r"
      }
    },
    {
      "cell_type": "code",
      "source": [
        "import seaborn as sns\n",
        "import matplotlib.pyplot as plt\n",
        "\n",
        "# Create an interaction plot using seaborn's lineplot\n",
        "plt.figure(figsize=(8, 6))\n",
        "sns.lineplot(x='FactorA', y='Score', hue='FactorB', data=data, markers=[\"o\", \"s\"], dashes=False)\n",
        "\n",
        "# Customize the plot\n",
        "plt.title('Interaction Plot between FactorA and FactorB')\n",
        "plt.xlabel('FactorA')\n",
        "plt.ylabel('Score')\n",
        "plt.legend(title='FactorB')\n",
        "plt.show()\n"
      ],
      "metadata": {
        "colab": {
          "base_uri": "https://localhost:8080/",
          "height": 564
        },
        "id": "FN7KrEPEHHrt",
        "outputId": "9c5d371a-f464-4a8e-c7ad-5dd4e2d5a917"
      },
      "execution_count": 28,
      "outputs": [
        {
          "output_type": "display_data",
          "data": {
            "text/plain": [
              "<Figure size 800x600 with 1 Axes>"
            ],
            "image/png": "[encoded data removed]"
          },
          "metadata": {}
        }
      ]
    },
    {
      "cell_type": "markdown",
      "source": [
        "**21. Write a Python program to visualize the F-distribution and discuss its use in hypothesis testing.**"
      ],
      "metadata": {
        "id": "VunXAJJSHhzw"
      }
    },
    {
      "cell_type": "markdown",
      "source": [
        "Ans: F-distribution Overview:\n",
        "The F-distribution is used in hypothesis testing, particularly in ANOVA and regression analysis. It's used to compare variances between groups. The F-statistic is the ratio of two variances, and the F-distribution helps determine the likelihood of observing such a ratio under the null hypothesis.\n",
        "\n",
        "Hypothesis Test Example:\n",
        "Null Hypothesis (H₀): The variances are equal.\n",
        "Alternative Hypothesis (H₁): The variances are not equal"
      ],
      "metadata": {
        "id": "ahvYqxHHH3zE"
      }
    },
    {
      "cell_type": "code",
      "source": [
        "import numpy as np\n",
        "import matplotlib.pyplot as plt\n",
        "from scipy.stats import f\n",
        "\n",
        "# Degrees of freedom for numerator (dof1) and denominator (dof2)\n",
        "dof1, dof2 = 5, 10\n",
        "\n",
        "# Range for F-distribution\n",
        "x = np.linspace(0, 5, 1000)\n",
        "y = f.pdf(x, dof1, dof2)\n",
        "\n",
        "# Plot the F-distribution\n",
        "plt.plot(x, y, label=f'F-distribution (dof1={dof1}, dof2={dof2})')\n",
        "plt.fill_between(x, y, alpha=0.3, color='blue')\n",
        "\n",
        "# Critical value at alpha=0.05\n",
        "alpha = 0.05\n",
        "critical_value = f.ppf(1 - alpha, dof1, dof2)\n",
        "plt.axvline(critical_value, color='red', linestyle='--', label=f'Critical Value = {critical_value:.3f}')\n",
        "\n",
        "# Customize plot\n",
        "plt.title('F-distribution with Critical Region')\n",
        "plt.xlabel('F Value')\n",
        "plt.ylabel('Density')\n",
        "plt.legend()\n",
        "plt.grid(True)\n",
        "\n",
        "# Show plot\n",
        "plt.show()\n",
        "\n",
        "# Print the critical value\n",
        "print(f\"Critical Value for alpha={alpha}: {critical_value:.3f}\")\n"
      ],
      "metadata": {
        "colab": {
          "base_uri": "https://localhost:8080/",
          "height": 489
        },
        "id": "zywVQhHJH6a7",
        "outputId": "d7dc513a-7df3-420e-9322-4fe0856c4338"
      },
      "execution_count": 29,
      "outputs": [
        {
          "output_type": "display_data",
          "data": {
            "text/plain": [
              "<Figure size 640x480 with 1 Axes>"
            ],
            "image/png": "[encoded data removed]"
          },
          "metadata": {}
        },
        {
          "output_type": "stream",
          "name": "stdout",
          "text": [
            "Critical Value for alpha=0.05: 3.326\n"
          ]
        }
      ]
    },
    {
      "cell_type": "markdown",
      "source": [
        "**22.Perform a one-way ANOVA test in Python and visualize the results with boxplots to compare group means.**"
      ],
      "metadata": {
        "id": "p1HdA0NpIA4z"
      }
    },
    {
      "cell_type": "code",
      "source": [
        "import numpy as np\n",
        "import pandas as pd\n",
        "import scipy.stats as stats\n",
        "import seaborn as sns\n",
        "import matplotlib.pyplot as plt\n",
        "\n",
        "# Generate some example data (3 groups)\n",
        "np.random.seed(42)\n",
        "group1 = np.random.normal(10, 2, 30)\n",
        "group2 = np.random.normal(12, 2, 30)\n",
        "group3 = np.random.normal(14, 2, 30)\n",
        "\n",
        "# Perform one-way ANOVA\n",
        "f_stat, p_value = stats.f_oneway(group1, group2, group3)\n",
        "\n",
        "# Print the results\n",
        "print(f\"F-statistic: {f_stat:.3f}, P-value: {p_value:.3f}\")\n",
        "\n",
        "# Visualize with a boxplot\n",
        "data = pd.DataFrame({'Group': ['Group 1']*30 + ['Group 2']*30 + ['Group 3']*30,\n",
        "                     'Score': np.concatenate([group1, group2, group3])})\n",
        "\n",
        "plt.figure(figsize=(8, 6))\n",
        "sns.boxplot(x='Group', y='Score', data=data)\n",
        "plt.title('One-Way ANOVA Comparison of Group Means')\n",
        "plt.show()\n"
      ],
      "metadata": {
        "colab": {
          "base_uri": "https://localhost:8080/",
          "height": 581
        },
        "id": "ujof60R9ILID",
        "outputId": "731f4d0b-462b-46c0-a3ec-bcddbd287a0c"
      },
      "execution_count": 30,
      "outputs": [
        {
          "output_type": "stream",
          "name": "stdout",
          "text": [
            "F-statistic: 40.976, P-value: 0.000\n"
          ]
        },
        {
          "output_type": "display_data",
          "data": {
            "text/plain": [
              "<Figure size 800x600 with 1 Axes>"
            ],
            "image/png": "[encoded data removed]"
          },
          "metadata": {}
        }
      ]
    },
    {
      "cell_type": "markdown",
      "source": [
        "**23.Simulate random data from a normal distribution, then perform hypothesis testing to evaluate the means.**"
      ],
      "metadata": {
        "id": "N-K3FisVIOZT"
      }
    },
    {
      "cell_type": "code",
      "source": [
        "import numpy as np\n",
        "import scipy.stats as stats\n",
        "\n",
        "# Simulate random data (two groups, normally distributed)\n",
        "np.random.seed(42)\n",
        "group1 = np.random.normal(loc=10, scale=2, size=30)  # Mean = 10, Std = 2\n",
        "group2 = np.random.normal(loc=12, scale=2, size=30)  # Mean = 12, Std = 2\n",
        "\n",
        "# Perform independent t-test (null hypothesis: means are equal)\n",
        "t_stat, p_value = stats.ttest_ind(group1, group2)\n",
        "\n",
        "# Print the results\n",
        "print(f\"T-statistic: {t_stat:.3f}, P-value: {p_value:.3f}\")\n",
        "\n",
        "# Evaluate hypothesis\n",
        "if p_value < 0.05:\n",
        "    print(\"Reject the null hypothesis: The means are significantly different.\")\n",
        "else:\n",
        "    print(\"Fail to reject the null hypothesis: The means are not significantly different.\")\n"
      ],
      "metadata": {
        "colab": {
          "base_uri": "https://localhost:8080/"
        },
        "id": "dgeeOOOjIbyv",
        "outputId": "eb08a06f-e8cf-4bcb-fa59-998edcae7e25"
      },
      "execution_count": 31,
      "outputs": [
        {
          "output_type": "stream",
          "name": "stdout",
          "text": [
            "T-statistic: -4.513, P-value: 0.000\n",
            "Reject the null hypothesis: The means are significantly different.\n"
          ]
        }
      ]
    },
    {
      "cell_type": "markdown",
      "source": [
        "**24.Perform a hypothesis test for population variance using a Chi-square distribution and interpret the results.**"
      ],
      "metadata": {
        "id": "64SxgTjzIehG"
      }
    },
    {
      "cell_type": "code",
      "source": [
        "import numpy as np\n",
        "import scipy.stats as stats\n",
        "\n",
        "# Simulate random data (sample from a normal distribution)\n",
        "np.random.seed(42)\n",
        "sample_data = np.random.normal(loc=10, scale=3, size=30)  # Mean=10, Std=3, n=30\n",
        "\n",
        "# Hypothesized population variance (sigma_0^2)\n",
        "sigma_0_sq = 9  # Hypothesized variance\n",
        "\n",
        "# Calculate sample variance (s^2)\n",
        "s_sq = np.var(sample_data, ddof=1)\n",
        "\n",
        "# Sample size (n)\n",
        "n = len(sample_data)\n",
        "\n",
        "# Compute the chi-square statistic\n",
        "chi_square_stat = (n - 1) * s_sq / sigma_0_sq\n",
        "\n",
        "# Degrees of freedom (df)\n",
        "df = n - 1\n",
        "\n",
        "# Perform the chi-square test (two-tailed test)\n",
        "alpha = 0.05  # Significance level\n",
        "\n",
        "# Calculate the critical values for a two-tailed test\n",
        "chi_square_lower = stats.chi2.ppf(alpha / 2, df)\n",
        "chi_square_upper = stats.chi2.ppf(1 - alpha / 2, df)\n",
        "\n",
        "# Print results\n",
        "print(f\"Chi-square statistic: {chi_square_stat:.3f}\")\n",
        "print(f\"Critical values: Lower = {chi_square_lower:.3f}, Upper = {chi_square_upper:.3f}\")\n",
        "\n",
        "# Decision rule\n",
        "if chi_square_stat < chi_square_lower or chi_square_stat > chi_square_upper:\n",
        "    print(\"Reject the null hypothesis: The population variance is significantly different.\")\n",
        "else:\n",
        "    print(\"Fail to reject the null hypothesis: The population variance is not significantly different.\")\n"
      ],
      "metadata": {
        "colab": {
          "base_uri": "https://localhost:8080/"
        },
        "id": "g0aloP_SIq8t",
        "outputId": "dafc5312-2f2b-4645-87c5-27fed9841aee"
      },
      "execution_count": 32,
      "outputs": [
        {
          "output_type": "stream",
          "name": "stdout",
          "text": [
            "Chi-square statistic: 23.490\n",
            "Critical values: Lower = 16.047, Upper = 45.722\n",
            "Fail to reject the null hypothesis: The population variance is not significantly different.\n"
          ]
        }
      ]
    },
    {
      "cell_type": "markdown",
      "source": [
        "**25.Write a Python script to perform a Z-test for comparing proportions between two datasets or groups.**"
      ],
      "metadata": {
        "id": "LFrW7ksSIu-v"
      }
    },
    {
      "cell_type": "code",
      "source": [
        "import numpy as np\n",
        "import scipy.stats as stats\n",
        "\n",
        "# Sample data: successes and sample sizes for two groups\n",
        "x1, n1 = 50, 200  # Group 1: 50 successes out of 200\n",
        "x2, n2 = 60, 250  # Group 2: 60 successes out of 250\n",
        "\n",
        "# Sample proportions\n",
        "p1 = x1 / n1\n",
        "p2 = x2 / n2\n",
        "\n",
        "# Pooled proportion\n",
        "P = (x1 + x2) / (n1 + n2)\n",
        "\n",
        "# Z-test statistic\n",
        "z_stat = (p1 - p2) / np.sqrt(P * (1 - P) * (1/n1 + 1/n2))\n",
        "\n",
        "# Critical value for two-tailed test at alpha = 0.05\n",
        "alpha = 0.05\n",
        "z_critical = stats.norm.ppf(1 - alpha/2)\n",
        "\n",
        "# Print results\n",
        "print(f\"Z-statistic: {z_stat:.3f}\")\n",
        "print(f\"Critical value (Z-crit): ±{z_critical:.3f}\")\n",
        "\n",
        "# Hypothesis test decision\n",
        "if abs(z_stat) > z_critical:\n",
        "    print(\"Reject the null hypothesis: The proportions are significantly different.\")\n",
        "else:\n",
        "    print(\"Fail to reject the null hypothesis: The proportions are not significantly different.\")\n"
      ],
      "metadata": {
        "colab": {
          "base_uri": "https://localhost:8080/"
        },
        "id": "Eusg6I8oI7s1",
        "outputId": "c1a644fb-c20e-415a-a47b-4a1f068c4748"
      },
      "execution_count": 33,
      "outputs": [
        {
          "output_type": "stream",
          "name": "stdout",
          "text": [
            "Z-statistic: 0.245\n",
            "Critical value (Z-crit): ±1.960\n",
            "Fail to reject the null hypothesis: The proportions are not significantly different.\n"
          ]
        }
      ]
    },
    {
      "cell_type": "markdown",
      "source": [
        "**26.Implement an F-test for comparing the variances of two datasets, then interpret and visualize the results.**"
      ],
      "metadata": {
        "id": "lThdRrw9I-VL"
      }
    },
    {
      "cell_type": "code",
      "source": [
        "import numpy as np\n",
        "import scipy.stats as stats\n",
        "import matplotlib.pyplot as plt\n",
        "\n",
        "# Sample data\n",
        "group1 = np.random.normal(10, 2, 30)  # Mean = 10, Std = 2, n = 30\n",
        "group2 = np.random.normal(12, 4, 30)  # Mean = 12, Std = 4, n = 30\n",
        "\n",
        "# Calculate sample variances\n",
        "var1 = np.var(group1, ddof=1)\n",
        "var2 = np.var(group2, ddof=1)\n",
        "\n",
        "# F-statistic\n",
        "f_stat = var1 / var2 if var1 > var2 else var2 / var1\n",
        "\n",
        "# Degrees of freedom\n",
        "df1 = len(group1) - 1\n",
        "df2 = len(group2) - 1\n",
        "\n",
        "# Critical value for two-tailed test\n",
        "alpha = 0.05\n",
        "f_critical = stats.f.ppf(1 - alpha/2, df1, df2)\n",
        "\n",
        "# Print results\n",
        "print(f\"F-statistic: {f_stat:.3f}\")\n",
        "print(f\"Critical value (F-crit): ±{f_critical:.3f}\")\n",
        "\n",
        "# Hypothesis test decision\n",
        "if f_stat > f_critical:\n",
        "    print(\"Reject the null hypothesis: The variances are significantly different.\")\n",
        "else:\n",
        "    print(\"Fail to reject the null hypothesis: The variances are not significantly different.\")\n",
        "\n",
        "# Visualize the F-distribution with critical region\n",
        "x = np.linspace(0, 5, 1000)\n",
        "f_dist = stats.f.pdf(x, df1, df2)\n",
        "\n",
        "plt.plot(x, f_dist, label=f'F-distribution (df1={df1}, df2={df2})')\n",
        "plt.axvline(f_critical, color='red', linestyle='--', label=f'Critical Value = {f_critical:.3f}')\n",
        "plt.fill_between(x, f_dist, where=(x > f_critical), alpha=0.3, color='red', label='Critical Region')\n",
        "plt.title('F-test for Comparing Variances')\n",
        "plt.xlabel('F Value')\n",
        "plt.ylabel('Density')\n",
        "plt.legend()\n",
        "plt.grid(True)\n",
        "plt.show()\n"
      ],
      "metadata": {
        "colab": {
          "base_uri": "https://localhost:8080/",
          "height": 524
        },
        "id": "6hno5I7xJOWk",
        "outputId": "6858405e-57df-4a78-d099-64ed4586d7e6"
      },
      "execution_count": 34,
      "outputs": [
        {
          "output_type": "stream",
          "name": "stdout",
          "text": [
            "F-statistic: 4.540\n",
            "Critical value (F-crit): ±2.101\n",
            "Reject the null hypothesis: The variances are significantly different.\n"
          ]
        },
        {
          "output_type": "display_data",
          "data": {
            "text/plain": [
              "<Figure size 640x480 with 1 Axes>"
            ],
            "image/png": "[encoded data removed]"
          },
          "metadata": {}
        }
      ]
    },
    {
      "cell_type": "markdown",
      "source": [
        "**27.Perform a Chi-square test for goodness of fit with simulated data and analyze the results,**"
      ],
      "metadata": {
        "id": "ZqcgPkNKJR5Z"
      }
    },
    {
      "cell_type": "code",
      "source": [
        "import numpy as np\n",
        "import scipy.stats as stats\n",
        "\n",
        "# Simulate observed data (e.g., a survey with categories A, B, C)\n",
        "observed = np.array([50, 30, 20])  # Observed frequencies\n",
        "categories = len(observed)\n",
        "\n",
        "# Adjust expected frequencies to match the sum of the observed frequencies\n",
        "expected = np.array([100/3, 100/3, 100/3])  # Expected frequencies (uniform distribution)\n",
        "\n",
        "# Perform Chi-square test\n",
        "chi2_stat, p_value = stats.chisquare(observed, expected)\n",
        "\n",
        "# Print the results\n",
        "print(f\"Chi-square statistic: {chi2_stat:.3f}\")\n",
        "print(f\"P-value: {p_value:.3f}\")\n",
        "\n",
        "# Decision\n",
        "alpha = 0.05\n",
        "if p_value < alpha:\n",
        "    print(\"Reject the null hypothesis: The observed frequencies do not match the expected frequencies.\")\n",
        "else:\n",
        "    print(\"Fail to reject the null hypothesis: The observed frequencies match the expected frequencies.\")\n"
      ],
      "metadata": {
        "colab": {
          "base_uri": "https://localhost:8080/"
        },
        "id": "PqR4FlI_AFd1",
        "outputId": "ad9d550b-fef1-48d0-ac3f-b41dba7aa68d"
      },
      "execution_count": 36,
      "outputs": [
        {
          "output_type": "stream",
          "name": "stdout",
          "text": [
            "Chi-square statistic: 14.000\n",
            "P-value: 0.001\n",
            "Reject the null hypothesis: The observed frequencies do not match the expected frequencies.\n"
          ]
        }
      ]
    },
    {
      "cell_type": "code",
      "source": [],
      "metadata": {
        "id": "PVy29vFn_Y8M"
      },
      "execution_count": null,
      "outputs": []
    },
    {
      "cell_type": "markdown",
      "source": [],
      "metadata": {
        "id": "MgHTQ8Y52kZO"
      }
    }
  ]
}